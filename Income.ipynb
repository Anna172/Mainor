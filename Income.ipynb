{
  "nbformat": 4,
  "nbformat_minor": 0,
  "metadata": {
    "colab": {
      "name": "Income.ipynb",
      "provenance": [],
      "authorship_tag": "ABX9TyM4xjFtxQH9HZWWF7wxL0+S",
      "include_colab_link": true
    },
    "kernelspec": {
      "name": "python3",
      "display_name": "Python 3"
    }
  },
  "cells": [
    {
      "cell_type": "markdown",
      "metadata": {
        "id": "view-in-github",
        "colab_type": "text"
      },
      "source": [
        "<a href=\"https://colab.research.google.com/github/Anna172/Mainor/blob/master/Income.ipynb\" target=\"_parent\"><img src=\"https://colab.research.google.com/assets/colab-badge.svg\" alt=\"Open In Colab\"/></a>"
      ]
    },
    {
      "cell_type": "code",
      "metadata": {
        "id": "pXv-jqrT97MT",
        "colab_type": "code",
        "colab": {}
      },
      "source": [
        "import numpy as np\n",
        "import pandas as pd"
      ],
      "execution_count": 0,
      "outputs": []
    },
    {
      "cell_type": "code",
      "metadata": {
        "id": "L_QN1_Vs98Pt",
        "colab_type": "code",
        "outputId": "d1edff53-8cf8-4fcc-8421-bf70e9bb1be1",
        "colab": {
          "base_uri": "https://localhost:8080/",
          "height": 202
        }
      },
      "source": [
        "data = pd.read_csv(\"income.csv\")\n",
        "data.head()"
      ],
      "execution_count": 123,
      "outputs": [
        {
          "output_type": "execute_result",
          "data": {
            "text/html": [
              "<div>\n",
              "<style scoped>\n",
              "    .dataframe tbody tr th:only-of-type {\n",
              "        vertical-align: middle;\n",
              "    }\n",
              "\n",
              "    .dataframe tbody tr th {\n",
              "        vertical-align: top;\n",
              "    }\n",
              "\n",
              "    .dataframe thead th {\n",
              "        text-align: right;\n",
              "    }\n",
              "</style>\n",
              "<table border=\"1\" class=\"dataframe\">\n",
              "  <thead>\n",
              "    <tr style=\"text-align: right;\">\n",
              "      <th></th>\n",
              "      <th>ID_W</th>\n",
              "      <th>IDIND</th>\n",
              "      <th>ID_H</th>\n",
              "      <th>J10</th>\n",
              "      <th>J32</th>\n",
              "      <th>J40</th>\n",
              "      <th>J60</th>\n",
              "    </tr>\n",
              "  </thead>\n",
              "  <tbody>\n",
              "    <tr>\n",
              "      <th>0</th>\n",
              "      <td>5</td>\n",
              "      <td>1</td>\n",
              "      <td>1001</td>\n",
              "      <td>160000.0</td>\n",
              "      <td>2.0</td>\n",
              "      <td>NaN</td>\n",
              "      <td>160000.0</td>\n",
              "    </tr>\n",
              "    <tr>\n",
              "      <th>1</th>\n",
              "      <td>5</td>\n",
              "      <td>2</td>\n",
              "      <td>1001</td>\n",
              "      <td>600000.0</td>\n",
              "      <td>2.0</td>\n",
              "      <td>NaN</td>\n",
              "      <td>1600000.0</td>\n",
              "    </tr>\n",
              "    <tr>\n",
              "      <th>2</th>\n",
              "      <td>5</td>\n",
              "      <td>3</td>\n",
              "      <td>1002</td>\n",
              "      <td>1200000.0</td>\n",
              "      <td>2.0</td>\n",
              "      <td>NaN</td>\n",
              "      <td>1331000.0</td>\n",
              "    </tr>\n",
              "    <tr>\n",
              "      <th>3</th>\n",
              "      <td>5</td>\n",
              "      <td>4</td>\n",
              "      <td>1002</td>\n",
              "      <td>39000.0</td>\n",
              "      <td>2.0</td>\n",
              "      <td>NaN</td>\n",
              "      <td>39000.0</td>\n",
              "    </tr>\n",
              "    <tr>\n",
              "      <th>4</th>\n",
              "      <td>5</td>\n",
              "      <td>5</td>\n",
              "      <td>1002</td>\n",
              "      <td>NaN</td>\n",
              "      <td>NaN</td>\n",
              "      <td>NaN</td>\n",
              "      <td>NaN</td>\n",
              "    </tr>\n",
              "  </tbody>\n",
              "</table>\n",
              "</div>"
            ],
            "text/plain": [
              "   ID_W  IDIND  ID_H        J10  J32  J40        J60\n",
              "0     5      1  1001   160000.0  2.0  NaN   160000.0\n",
              "1     5      2  1001   600000.0  2.0  NaN  1600000.0\n",
              "2     5      3  1002  1200000.0  2.0  NaN  1331000.0\n",
              "3     5      4  1002    39000.0  2.0  NaN    39000.0\n",
              "4     5      5  1002        NaN  NaN  NaN        NaN"
            ]
          },
          "metadata": {
            "tags": []
          },
          "execution_count": 123
        }
      ]
    },
    {
      "cell_type": "code",
      "metadata": {
        "id": "jtBY-hSA-Jb2",
        "colab_type": "code",
        "colab": {}
      },
      "source": [
        "# Добавляем новые слобцы\n",
        "data = data.assign(diff=np.zeros(data.shape[0]))\n",
        "#data['diff'] = data['J60'] - data['J10']\n"
      ],
      "execution_count": 0,
      "outputs": []
    },
    {
      "cell_type": "code",
      "metadata": {
        "id": "LwA7rBSc6hOX",
        "colab_type": "code",
        "colab": {}
      },
      "source": [
        "# убираем ответы я хз и тд 99999997 99999998 99999999\n",
        "data.loc[(data['J60']==99999997) ^ (data['J60']==99999998) ^ (data['J60']==99999999), 'J60'] = np.NaN\n",
        "data.loc[(data['J10']==99999997) ^ (data['J10']==99999998) ^ (data['J10']==99999999), 'J10'] = np.NaN\n",
        "data.loc[(data['J40']==99999997) ^ (data['J40']==99999998) ^ (data['J40']==99999999), 'J40'] = np.NaN"
      ],
      "execution_count": 0,
      "outputs": []
    },
    {
      "cell_type": "code",
      "metadata": {
        "id": "JpNgLLAcpS_o",
        "colab_type": "code",
        "colab": {}
      },
      "source": [
        "medians10 = []\n",
        "medians10 = data.groupby('ID_W')['J10'].median()\n",
        "#print(medians10.index)\n",
        "#medians10[medians.index[1]]\n",
        "#print(medians10.values)\n",
        "#print(medians10.values[5])\n"
      ],
      "execution_count": 0,
      "outputs": []
    },
    {
      "cell_type": "code",
      "metadata": {
        "id": "4N4t7u0FvMc4",
        "colab_type": "code",
        "colab": {}
      },
      "source": [
        "for i in range(len(medians10.index)):\n",
        "  data.loc[(data['J32']==1) & (data['ID_W'] == medians10.index[i]) & (data['J40'] != np.NaN), 'J10'] = data.loc[(data['J32']==1) & (data['ID_W'] == medians10.index[i]) & (data['J40'] != np.NaN), 'J10'].fillna(medians10.values[i])\n",
        "\n",
        "data['diff'] = data['J60'] - data['J10']"
      ],
      "execution_count": 0,
      "outputs": []
    },
    {
      "cell_type": "code",
      "metadata": {
        "id": "di_-PoEqwtYk",
        "colab_type": "code",
        "outputId": "16b91493-c49d-4689-baa0-e44be55243a2",
        "colab": {
          "base_uri": "https://localhost:8080/",
          "height": 69
        }
      },
      "source": [
        "medians40 = []\n",
        "medians40 = data.groupby('ID_W')['J40'].median()\n",
        "print(medians.index)"
      ],
      "execution_count": 128,
      "outputs": [
        {
          "output_type": "stream",
          "text": [
            "Int64Index([ 5,  6,  7,  8,  9, 10, 11, 12, 13, 14, 15, 16, 17, 18, 19, 20, 21,\n",
            "            22, 23, 24, 25, 26, 27],\n",
            "           dtype='int64', name='ID_W')\n"
          ],
          "name": "stdout"
        }
      ]
    },
    {
      "cell_type": "code",
      "metadata": {
        "id": "3LNjnaXY1sCO",
        "colab_type": "code",
        "colab": {}
      },
      "source": [
        "for i in range(len(medians40.index)):\n",
        "  data.loc[(data['diff'] < 0) & (data['ID_W'] == medians40.index[i]), 'diff'] = medians40.values[i]"
      ],
      "execution_count": 0,
      "outputs": []
    },
    {
      "cell_type": "code",
      "metadata": {
        "id": "WY_pti2D2D6M",
        "colab_type": "code",
        "colab": {}
      },
      "source": [
        "for i in range(len(medians40.index)):\n",
        "  data.loc[(data['diff'] > data['J10']) & (data['ID_W'] == medians40.index[i]), 'diff'] = medians40.values[i]\n",
        "\n",
        "data.loc[(data['J32']==1) & (data['J40'].isna()), 'J40'] = data.loc[(data['J32']==1) & (data['J40'].isna()), 'diff']\n"
      ],
      "execution_count": 0,
      "outputs": []
    },
    {
      "cell_type": "code",
      "metadata": {
        "id": "1krKQ3Wh-MkS",
        "colab_type": "code",
        "colab": {}
      },
      "source": [
        "# Если указано, что есть доп зарабаток, но значения этого заработка нет, то доп заработком будем считать разницу\n",
        "# между всего доходами и основными доходами, если эта разница не превышвет основного заработка, \n",
        "# иначе заполним средним значением по доп заработку\n",
        "#data.loc[(data['J32']==1) & (data['J40'] != np.NaN), 'J10'] = data.loc[(data['J32']==1) & (data['J40'] != np.NaN), 'J10'].fillna(data['J10'].median())\n",
        "#data['diff'] = data['J60'] - data['J10']\n",
        "#data.loc[data['diff'] < 0, 'diff'] = data['J40'].median()\n",
        "#data.loc[data['diff'] > data['J10'], 'diff'] = data['J40'].median()\n",
        "\n"
      ],
      "execution_count": 0,
      "outputs": []
    },
    {
      "cell_type": "code",
      "metadata": {
        "id": "LMx_iPUM25sd",
        "colab_type": "code",
        "colab": {}
      },
      "source": [
        "for i in range(len(medians40.index)):\n",
        "  data.loc[(data['J32']==1) & (data['ID_W'] == medians40.index[i]), 'J40'] = data.loc[(data['J32']==1) & (data['ID_W'] == medians40.index[i]), 'J40'].fillna(medians40.values[i])\n",
        "\n",
        "data['J40'] = data['J40'].fillna(0)  "
      ],
      "execution_count": 0,
      "outputs": []
    },
    {
      "cell_type": "code",
      "metadata": {
        "id": "MeQEQ2kf257z",
        "colab_type": "code",
        "colab": {}
      },
      "source": [
        "#data.loc[(data['J32']==1), 'J40'] = data.loc[(data['J32']==1), 'J40'].fillna(data['J40'].median())\n",
        "#data['J40'] = data['J40'].fillna(0)"
      ],
      "execution_count": 0,
      "outputs": []
    },
    {
      "cell_type": "code",
      "metadata": {
        "id": "g327SO0O-Raj",
        "colab_type": "code",
        "colab": {}
      },
      "source": [
        "# Добавляем новые слобцы\n",
        "data = data.assign(Income=np.zeros(data.shape[0]))\n",
        "data['Income'] = data['J10'] + data['J40']"
      ],
      "execution_count": 0,
      "outputs": []
    },
    {
      "cell_type": "code",
      "metadata": {
        "id": "WLoCYVpOIpz8",
        "colab_type": "code",
        "colab": {}
      },
      "source": [
        "data.to_csv(\"IndInc11.csv\", index=False)"
      ],
      "execution_count": 0,
      "outputs": []
    },
    {
      "cell_type": "code",
      "metadata": {
        "id": "GtfouYHwJsXn",
        "colab_type": "code",
        "colab": {}
      },
      "source": [
        ""
      ],
      "execution_count": 0,
      "outputs": []
    }
  ]
}