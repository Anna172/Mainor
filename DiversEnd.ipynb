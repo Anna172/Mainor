{
  "nbformat": 4,
  "nbformat_minor": 0,
  "metadata": {
    "colab": {
      "name": "DiversEnd.ipynb",
      "provenance": [],
      "authorship_tag": "ABX9TyMWLuIOquJ9Mk7EeWh1qvUb",
      "include_colab_link": true
    },
    "kernelspec": {
      "name": "python3",
      "display_name": "Python 3"
    },
    "widgets": {
      "application/vnd.jupyter.widget-state+json": {
        "5fe2fed1c52e458785418e9e9c6eaadc": {
          "model_module": "@jupyter-widgets/controls",
          "model_name": "HBoxModel",
          "state": {
            "_view_name": "HBoxView",
            "_dom_classes": [],
            "_model_name": "HBoxModel",
            "_view_module": "@jupyter-widgets/controls",
            "_model_module_version": "1.5.0",
            "_view_count": null,
            "_view_module_version": "1.5.0",
            "box_style": "",
            "layout": "IPY_MODEL_4ecc0dbd51d246a6bc5868874f231a9c",
            "_model_module": "@jupyter-widgets/controls",
            "children": [
              "IPY_MODEL_5ba3749abfb245829d29c56d2b481777",
              "IPY_MODEL_f33e559e6b044ce8818a7e8a9f265ab1"
            ]
          }
        },
        "4ecc0dbd51d246a6bc5868874f231a9c": {
          "model_module": "@jupyter-widgets/base",
          "model_name": "LayoutModel",
          "state": {
            "_view_name": "LayoutView",
            "grid_template_rows": null,
            "right": null,
            "justify_content": null,
            "_view_module": "@jupyter-widgets/base",
            "overflow": null,
            "_model_module_version": "1.2.0",
            "_view_count": null,
            "flex_flow": null,
            "width": null,
            "min_width": null,
            "border": null,
            "align_items": null,
            "bottom": null,
            "_model_module": "@jupyter-widgets/base",
            "top": null,
            "grid_column": null,
            "overflow_y": null,
            "overflow_x": null,
            "grid_auto_flow": null,
            "grid_area": null,
            "grid_template_columns": null,
            "flex": null,
            "_model_name": "LayoutModel",
            "justify_items": null,
            "grid_row": null,
            "max_height": null,
            "align_content": null,
            "visibility": null,
            "align_self": null,
            "height": null,
            "min_height": null,
            "padding": null,
            "grid_auto_rows": null,
            "grid_gap": null,
            "max_width": null,
            "order": null,
            "_view_module_version": "1.2.0",
            "grid_template_areas": null,
            "object_position": null,
            "object_fit": null,
            "grid_auto_columns": null,
            "margin": null,
            "display": null,
            "left": null
          }
        },
        "5ba3749abfb245829d29c56d2b481777": {
          "model_module": "@jupyter-widgets/controls",
          "model_name": "IntProgressModel",
          "state": {
            "_view_name": "ProgressView",
            "style": "IPY_MODEL_15a9d8d415704ef99a81ad6bb9b67ac4",
            "_dom_classes": [],
            "description": "100%",
            "_model_name": "IntProgressModel",
            "bar_style": "success",
            "max": 131515,
            "_view_module": "@jupyter-widgets/controls",
            "_model_module_version": "1.5.0",
            "value": 131515,
            "_view_count": null,
            "_view_module_version": "1.5.0",
            "orientation": "horizontal",
            "min": 0,
            "description_tooltip": null,
            "_model_module": "@jupyter-widgets/controls",
            "layout": "IPY_MODEL_692cebf79b464e9f893960eed3148d37"
          }
        },
        "f33e559e6b044ce8818a7e8a9f265ab1": {
          "model_module": "@jupyter-widgets/controls",
          "model_name": "HTMLModel",
          "state": {
            "_view_name": "HTMLView",
            "style": "IPY_MODEL_67d0fb3d8bce4d85a1de79ac19784394",
            "_dom_classes": [],
            "description": "",
            "_model_name": "HTMLModel",
            "placeholder": "​",
            "_view_module": "@jupyter-widgets/controls",
            "_model_module_version": "1.5.0",
            "value": " 131515/131515 [07:07&lt;00:00, 307.93it/s]",
            "_view_count": null,
            "_view_module_version": "1.5.0",
            "description_tooltip": null,
            "_model_module": "@jupyter-widgets/controls",
            "layout": "IPY_MODEL_d08b31c9309640d1abf0d94c9c00a48e"
          }
        },
        "15a9d8d415704ef99a81ad6bb9b67ac4": {
          "model_module": "@jupyter-widgets/controls",
          "model_name": "ProgressStyleModel",
          "state": {
            "_view_name": "StyleView",
            "_model_name": "ProgressStyleModel",
            "description_width": "initial",
            "_view_module": "@jupyter-widgets/base",
            "_model_module_version": "1.5.0",
            "_view_count": null,
            "_view_module_version": "1.2.0",
            "bar_color": null,
            "_model_module": "@jupyter-widgets/controls"
          }
        },
        "692cebf79b464e9f893960eed3148d37": {
          "model_module": "@jupyter-widgets/base",
          "model_name": "LayoutModel",
          "state": {
            "_view_name": "LayoutView",
            "grid_template_rows": null,
            "right": null,
            "justify_content": null,
            "_view_module": "@jupyter-widgets/base",
            "overflow": null,
            "_model_module_version": "1.2.0",
            "_view_count": null,
            "flex_flow": null,
            "width": null,
            "min_width": null,
            "border": null,
            "align_items": null,
            "bottom": null,
            "_model_module": "@jupyter-widgets/base",
            "top": null,
            "grid_column": null,
            "overflow_y": null,
            "overflow_x": null,
            "grid_auto_flow": null,
            "grid_area": null,
            "grid_template_columns": null,
            "flex": null,
            "_model_name": "LayoutModel",
            "justify_items": null,
            "grid_row": null,
            "max_height": null,
            "align_content": null,
            "visibility": null,
            "align_self": null,
            "height": null,
            "min_height": null,
            "padding": null,
            "grid_auto_rows": null,
            "grid_gap": null,
            "max_width": null,
            "order": null,
            "_view_module_version": "1.2.0",
            "grid_template_areas": null,
            "object_position": null,
            "object_fit": null,
            "grid_auto_columns": null,
            "margin": null,
            "display": null,
            "left": null
          }
        },
        "67d0fb3d8bce4d85a1de79ac19784394": {
          "model_module": "@jupyter-widgets/controls",
          "model_name": "DescriptionStyleModel",
          "state": {
            "_view_name": "StyleView",
            "_model_name": "DescriptionStyleModel",
            "description_width": "",
            "_view_module": "@jupyter-widgets/base",
            "_model_module_version": "1.5.0",
            "_view_count": null,
            "_view_module_version": "1.2.0",
            "_model_module": "@jupyter-widgets/controls"
          }
        },
        "d08b31c9309640d1abf0d94c9c00a48e": {
          "model_module": "@jupyter-widgets/base",
          "model_name": "LayoutModel",
          "state": {
            "_view_name": "LayoutView",
            "grid_template_rows": null,
            "right": null,
            "justify_content": null,
            "_view_module": "@jupyter-widgets/base",
            "overflow": null,
            "_model_module_version": "1.2.0",
            "_view_count": null,
            "flex_flow": null,
            "width": null,
            "min_width": null,
            "border": null,
            "align_items": null,
            "bottom": null,
            "_model_module": "@jupyter-widgets/base",
            "top": null,
            "grid_column": null,
            "overflow_y": null,
            "overflow_x": null,
            "grid_auto_flow": null,
            "grid_area": null,
            "grid_template_columns": null,
            "flex": null,
            "_model_name": "LayoutModel",
            "justify_items": null,
            "grid_row": null,
            "max_height": null,
            "align_content": null,
            "visibility": null,
            "align_self": null,
            "height": null,
            "min_height": null,
            "padding": null,
            "grid_auto_rows": null,
            "grid_gap": null,
            "max_width": null,
            "order": null,
            "_view_module_version": "1.2.0",
            "grid_template_areas": null,
            "object_position": null,
            "object_fit": null,
            "grid_auto_columns": null,
            "margin": null,
            "display": null,
            "left": null
          }
        },
        "15976c701f5b42b989a6ba6def280487": {
          "model_module": "@jupyter-widgets/controls",
          "model_name": "HBoxModel",
          "state": {
            "_view_name": "HBoxView",
            "_dom_classes": [],
            "_model_name": "HBoxModel",
            "_view_module": "@jupyter-widgets/controls",
            "_model_module_version": "1.5.0",
            "_view_count": null,
            "_view_module_version": "1.5.0",
            "box_style": "",
            "layout": "IPY_MODEL_f3c38267d11543b7823a37a84bed61ba",
            "_model_module": "@jupyter-widgets/controls",
            "children": [
              "IPY_MODEL_879db49e5b02455fb5b585adfa85657b",
              "IPY_MODEL_bfb7a0628ce9449cbaf4196a078c8279"
            ]
          }
        },
        "f3c38267d11543b7823a37a84bed61ba": {
          "model_module": "@jupyter-widgets/base",
          "model_name": "LayoutModel",
          "state": {
            "_view_name": "LayoutView",
            "grid_template_rows": null,
            "right": null,
            "justify_content": null,
            "_view_module": "@jupyter-widgets/base",
            "overflow": null,
            "_model_module_version": "1.2.0",
            "_view_count": null,
            "flex_flow": null,
            "width": null,
            "min_width": null,
            "border": null,
            "align_items": null,
            "bottom": null,
            "_model_module": "@jupyter-widgets/base",
            "top": null,
            "grid_column": null,
            "overflow_y": null,
            "overflow_x": null,
            "grid_auto_flow": null,
            "grid_area": null,
            "grid_template_columns": null,
            "flex": null,
            "_model_name": "LayoutModel",
            "justify_items": null,
            "grid_row": null,
            "max_height": null,
            "align_content": null,
            "visibility": null,
            "align_self": null,
            "height": null,
            "min_height": null,
            "padding": null,
            "grid_auto_rows": null,
            "grid_gap": null,
            "max_width": null,
            "order": null,
            "_view_module_version": "1.2.0",
            "grid_template_areas": null,
            "object_position": null,
            "object_fit": null,
            "grid_auto_columns": null,
            "margin": null,
            "display": null,
            "left": null
          }
        },
        "879db49e5b02455fb5b585adfa85657b": {
          "model_module": "@jupyter-widgets/controls",
          "model_name": "IntProgressModel",
          "state": {
            "_view_name": "ProgressView",
            "style": "IPY_MODEL_43214368d51c417ea236408f85010505",
            "_dom_classes": [],
            "description": "100%",
            "_model_name": "IntProgressModel",
            "bar_style": "success",
            "max": 4821,
            "_view_module": "@jupyter-widgets/controls",
            "_model_module_version": "1.5.0",
            "value": 4821,
            "_view_count": null,
            "_view_module_version": "1.5.0",
            "orientation": "horizontal",
            "min": 0,
            "description_tooltip": null,
            "_model_module": "@jupyter-widgets/controls",
            "layout": "IPY_MODEL_78bb9acb77a5427a85a7ecb80fb8b81a"
          }
        },
        "bfb7a0628ce9449cbaf4196a078c8279": {
          "model_module": "@jupyter-widgets/controls",
          "model_name": "HTMLModel",
          "state": {
            "_view_name": "HTMLView",
            "style": "IPY_MODEL_daeb13e5ee6a462c8ccf8ab14a5cd8ec",
            "_dom_classes": [],
            "description": "",
            "_model_name": "HTMLModel",
            "placeholder": "​",
            "_view_module": "@jupyter-widgets/controls",
            "_model_module_version": "1.5.0",
            "value": " 4821/4821 [02:08&lt;00:00, 37.50it/s]",
            "_view_count": null,
            "_view_module_version": "1.5.0",
            "description_tooltip": null,
            "_model_module": "@jupyter-widgets/controls",
            "layout": "IPY_MODEL_c98c53d25bc14356a06f9476fdd2c9d6"
          }
        },
        "43214368d51c417ea236408f85010505": {
          "model_module": "@jupyter-widgets/controls",
          "model_name": "ProgressStyleModel",
          "state": {
            "_view_name": "StyleView",
            "_model_name": "ProgressStyleModel",
            "description_width": "initial",
            "_view_module": "@jupyter-widgets/base",
            "_model_module_version": "1.5.0",
            "_view_count": null,
            "_view_module_version": "1.2.0",
            "bar_color": null,
            "_model_module": "@jupyter-widgets/controls"
          }
        },
        "78bb9acb77a5427a85a7ecb80fb8b81a": {
          "model_module": "@jupyter-widgets/base",
          "model_name": "LayoutModel",
          "state": {
            "_view_name": "LayoutView",
            "grid_template_rows": null,
            "right": null,
            "justify_content": null,
            "_view_module": "@jupyter-widgets/base",
            "overflow": null,
            "_model_module_version": "1.2.0",
            "_view_count": null,
            "flex_flow": null,
            "width": null,
            "min_width": null,
            "border": null,
            "align_items": null,
            "bottom": null,
            "_model_module": "@jupyter-widgets/base",
            "top": null,
            "grid_column": null,
            "overflow_y": null,
            "overflow_x": null,
            "grid_auto_flow": null,
            "grid_area": null,
            "grid_template_columns": null,
            "flex": null,
            "_model_name": "LayoutModel",
            "justify_items": null,
            "grid_row": null,
            "max_height": null,
            "align_content": null,
            "visibility": null,
            "align_self": null,
            "height": null,
            "min_height": null,
            "padding": null,
            "grid_auto_rows": null,
            "grid_gap": null,
            "max_width": null,
            "order": null,
            "_view_module_version": "1.2.0",
            "grid_template_areas": null,
            "object_position": null,
            "object_fit": null,
            "grid_auto_columns": null,
            "margin": null,
            "display": null,
            "left": null
          }
        },
        "daeb13e5ee6a462c8ccf8ab14a5cd8ec": {
          "model_module": "@jupyter-widgets/controls",
          "model_name": "DescriptionStyleModel",
          "state": {
            "_view_name": "StyleView",
            "_model_name": "DescriptionStyleModel",
            "description_width": "",
            "_view_module": "@jupyter-widgets/base",
            "_model_module_version": "1.5.0",
            "_view_count": null,
            "_view_module_version": "1.2.0",
            "_model_module": "@jupyter-widgets/controls"
          }
        },
        "c98c53d25bc14356a06f9476fdd2c9d6": {
          "model_module": "@jupyter-widgets/base",
          "model_name": "LayoutModel",
          "state": {
            "_view_name": "LayoutView",
            "grid_template_rows": null,
            "right": null,
            "justify_content": null,
            "_view_module": "@jupyter-widgets/base",
            "overflow": null,
            "_model_module_version": "1.2.0",
            "_view_count": null,
            "flex_flow": null,
            "width": null,
            "min_width": null,
            "border": null,
            "align_items": null,
            "bottom": null,
            "_model_module": "@jupyter-widgets/base",
            "top": null,
            "grid_column": null,
            "overflow_y": null,
            "overflow_x": null,
            "grid_auto_flow": null,
            "grid_area": null,
            "grid_template_columns": null,
            "flex": null,
            "_model_name": "LayoutModel",
            "justify_items": null,
            "grid_row": null,
            "max_height": null,
            "align_content": null,
            "visibility": null,
            "align_self": null,
            "height": null,
            "min_height": null,
            "padding": null,
            "grid_auto_rows": null,
            "grid_gap": null,
            "max_width": null,
            "order": null,
            "_view_module_version": "1.2.0",
            "grid_template_areas": null,
            "object_position": null,
            "object_fit": null,
            "grid_auto_columns": null,
            "margin": null,
            "display": null,
            "left": null
          }
        },
        "77a5b980864b47f2936fdaf00d805f56": {
          "model_module": "@jupyter-widgets/controls",
          "model_name": "HBoxModel",
          "state": {
            "_view_name": "HBoxView",
            "_dom_classes": [],
            "_model_name": "HBoxModel",
            "_view_module": "@jupyter-widgets/controls",
            "_model_module_version": "1.5.0",
            "_view_count": null,
            "_view_module_version": "1.5.0",
            "box_style": "",
            "layout": "IPY_MODEL_96cfc320c4344fa198d62708b6825305",
            "_model_module": "@jupyter-widgets/controls",
            "children": [
              "IPY_MODEL_779adef2eb9449bd9edfa5de9aa5b214",
              "IPY_MODEL_e42ffa710ed84722af3e50e802c254ba"
            ]
          }
        },
        "96cfc320c4344fa198d62708b6825305": {
          "model_module": "@jupyter-widgets/base",
          "model_name": "LayoutModel",
          "state": {
            "_view_name": "LayoutView",
            "grid_template_rows": null,
            "right": null,
            "justify_content": null,
            "_view_module": "@jupyter-widgets/base",
            "overflow": null,
            "_model_module_version": "1.2.0",
            "_view_count": null,
            "flex_flow": null,
            "width": null,
            "min_width": null,
            "border": null,
            "align_items": null,
            "bottom": null,
            "_model_module": "@jupyter-widgets/base",
            "top": null,
            "grid_column": null,
            "overflow_y": null,
            "overflow_x": null,
            "grid_auto_flow": null,
            "grid_area": null,
            "grid_template_columns": null,
            "flex": null,
            "_model_name": "LayoutModel",
            "justify_items": null,
            "grid_row": null,
            "max_height": null,
            "align_content": null,
            "visibility": null,
            "align_self": null,
            "height": null,
            "min_height": null,
            "padding": null,
            "grid_auto_rows": null,
            "grid_gap": null,
            "max_width": null,
            "order": null,
            "_view_module_version": "1.2.0",
            "grid_template_areas": null,
            "object_position": null,
            "object_fit": null,
            "grid_auto_columns": null,
            "margin": null,
            "display": null,
            "left": null
          }
        },
        "779adef2eb9449bd9edfa5de9aa5b214": {
          "model_module": "@jupyter-widgets/controls",
          "model_name": "IntProgressModel",
          "state": {
            "_view_name": "ProgressView",
            "style": "IPY_MODEL_d64e180441b44be99f9e6d3f5872e543",
            "_dom_classes": [],
            "description": "100%",
            "_model_name": "IntProgressModel",
            "bar_style": "success",
            "max": 142,
            "_view_module": "@jupyter-widgets/controls",
            "_model_module_version": "1.5.0",
            "value": 142,
            "_view_count": null,
            "_view_module_version": "1.5.0",
            "orientation": "horizontal",
            "min": 0,
            "description_tooltip": null,
            "_model_module": "@jupyter-widgets/controls",
            "layout": "IPY_MODEL_2d0937f6408f4562909144bcc77ae1c0"
          }
        },
        "e42ffa710ed84722af3e50e802c254ba": {
          "model_module": "@jupyter-widgets/controls",
          "model_name": "HTMLModel",
          "state": {
            "_view_name": "HTMLView",
            "style": "IPY_MODEL_926b6ccd6e924df0a382666621c31e11",
            "_dom_classes": [],
            "description": "",
            "_model_name": "HTMLModel",
            "placeholder": "​",
            "_view_module": "@jupyter-widgets/controls",
            "_model_module_version": "1.5.0",
            "value": " 142/142 [04:50&lt;00:00,  2.05s/it]",
            "_view_count": null,
            "_view_module_version": "1.5.0",
            "description_tooltip": null,
            "_model_module": "@jupyter-widgets/controls",
            "layout": "IPY_MODEL_2f20db35f87e4f4bbae289674853bb70"
          }
        },
        "d64e180441b44be99f9e6d3f5872e543": {
          "model_module": "@jupyter-widgets/controls",
          "model_name": "ProgressStyleModel",
          "state": {
            "_view_name": "StyleView",
            "_model_name": "ProgressStyleModel",
            "description_width": "initial",
            "_view_module": "@jupyter-widgets/base",
            "_model_module_version": "1.5.0",
            "_view_count": null,
            "_view_module_version": "1.2.0",
            "bar_color": null,
            "_model_module": "@jupyter-widgets/controls"
          }
        },
        "2d0937f6408f4562909144bcc77ae1c0": {
          "model_module": "@jupyter-widgets/base",
          "model_name": "LayoutModel",
          "state": {
            "_view_name": "LayoutView",
            "grid_template_rows": null,
            "right": null,
            "justify_content": null,
            "_view_module": "@jupyter-widgets/base",
            "overflow": null,
            "_model_module_version": "1.2.0",
            "_view_count": null,
            "flex_flow": null,
            "width": null,
            "min_width": null,
            "border": null,
            "align_items": null,
            "bottom": null,
            "_model_module": "@jupyter-widgets/base",
            "top": null,
            "grid_column": null,
            "overflow_y": null,
            "overflow_x": null,
            "grid_auto_flow": null,
            "grid_area": null,
            "grid_template_columns": null,
            "flex": null,
            "_model_name": "LayoutModel",
            "justify_items": null,
            "grid_row": null,
            "max_height": null,
            "align_content": null,
            "visibility": null,
            "align_self": null,
            "height": null,
            "min_height": null,
            "padding": null,
            "grid_auto_rows": null,
            "grid_gap": null,
            "max_width": null,
            "order": null,
            "_view_module_version": "1.2.0",
            "grid_template_areas": null,
            "object_position": null,
            "object_fit": null,
            "grid_auto_columns": null,
            "margin": null,
            "display": null,
            "left": null
          }
        },
        "926b6ccd6e924df0a382666621c31e11": {
          "model_module": "@jupyter-widgets/controls",
          "model_name": "DescriptionStyleModel",
          "state": {
            "_view_name": "StyleView",
            "_model_name": "DescriptionStyleModel",
            "description_width": "",
            "_view_module": "@jupyter-widgets/base",
            "_model_module_version": "1.5.0",
            "_view_count": null,
            "_view_module_version": "1.2.0",
            "_model_module": "@jupyter-widgets/controls"
          }
        },
        "2f20db35f87e4f4bbae289674853bb70": {
          "model_module": "@jupyter-widgets/base",
          "model_name": "LayoutModel",
          "state": {
            "_view_name": "LayoutView",
            "grid_template_rows": null,
            "right": null,
            "justify_content": null,
            "_view_module": "@jupyter-widgets/base",
            "overflow": null,
            "_model_module_version": "1.2.0",
            "_view_count": null,
            "flex_flow": null,
            "width": null,
            "min_width": null,
            "border": null,
            "align_items": null,
            "bottom": null,
            "_model_module": "@jupyter-widgets/base",
            "top": null,
            "grid_column": null,
            "overflow_y": null,
            "overflow_x": null,
            "grid_auto_flow": null,
            "grid_area": null,
            "grid_template_columns": null,
            "flex": null,
            "_model_name": "LayoutModel",
            "justify_items": null,
            "grid_row": null,
            "max_height": null,
            "align_content": null,
            "visibility": null,
            "align_self": null,
            "height": null,
            "min_height": null,
            "padding": null,
            "grid_auto_rows": null,
            "grid_gap": null,
            "max_width": null,
            "order": null,
            "_view_module_version": "1.2.0",
            "grid_template_areas": null,
            "object_position": null,
            "object_fit": null,
            "grid_auto_columns": null,
            "margin": null,
            "display": null,
            "left": null
          }
        },
        "9524c2b5ed43421db6e215e88208c5cf": {
          "model_module": "@jupyter-widgets/controls",
          "model_name": "HBoxModel",
          "state": {
            "_view_name": "HBoxView",
            "_dom_classes": [],
            "_model_name": "HBoxModel",
            "_view_module": "@jupyter-widgets/controls",
            "_model_module_version": "1.5.0",
            "_view_count": null,
            "_view_module_version": "1.5.0",
            "box_style": "",
            "layout": "IPY_MODEL_76337c557999488c8609c8641f77a5a9",
            "_model_module": "@jupyter-widgets/controls",
            "children": [
              "IPY_MODEL_6205a7a0fa9940b99e284ea5bb6c1394",
              "IPY_MODEL_a24cd9bd8a26463b91c1fceaa5ee9caf"
            ]
          }
        },
        "76337c557999488c8609c8641f77a5a9": {
          "model_module": "@jupyter-widgets/base",
          "model_name": "LayoutModel",
          "state": {
            "_view_name": "LayoutView",
            "grid_template_rows": null,
            "right": null,
            "justify_content": null,
            "_view_module": "@jupyter-widgets/base",
            "overflow": null,
            "_model_module_version": "1.2.0",
            "_view_count": null,
            "flex_flow": null,
            "width": null,
            "min_width": null,
            "border": null,
            "align_items": null,
            "bottom": null,
            "_model_module": "@jupyter-widgets/base",
            "top": null,
            "grid_column": null,
            "overflow_y": null,
            "overflow_x": null,
            "grid_auto_flow": null,
            "grid_area": null,
            "grid_template_columns": null,
            "flex": null,
            "_model_name": "LayoutModel",
            "justify_items": null,
            "grid_row": null,
            "max_height": null,
            "align_content": null,
            "visibility": null,
            "align_self": null,
            "height": null,
            "min_height": null,
            "padding": null,
            "grid_auto_rows": null,
            "grid_gap": null,
            "max_width": null,
            "order": null,
            "_view_module_version": "1.2.0",
            "grid_template_areas": null,
            "object_position": null,
            "object_fit": null,
            "grid_auto_columns": null,
            "margin": null,
            "display": null,
            "left": null
          }
        },
        "6205a7a0fa9940b99e284ea5bb6c1394": {
          "model_module": "@jupyter-widgets/controls",
          "model_name": "IntProgressModel",
          "state": {
            "_view_name": "ProgressView",
            "style": "IPY_MODEL_7eb8c412e97e447e82827ff23659c71f",
            "_dom_classes": [],
            "description": "100%",
            "_model_name": "IntProgressModel",
            "bar_style": "success",
            "max": 267,
            "_view_module": "@jupyter-widgets/controls",
            "_model_module_version": "1.5.0",
            "value": 267,
            "_view_count": null,
            "_view_module_version": "1.5.0",
            "orientation": "horizontal",
            "min": 0,
            "description_tooltip": null,
            "_model_module": "@jupyter-widgets/controls",
            "layout": "IPY_MODEL_efe59e31de9242039c7dcc7fd513b6c0"
          }
        },
        "a24cd9bd8a26463b91c1fceaa5ee9caf": {
          "model_module": "@jupyter-widgets/controls",
          "model_name": "HTMLModel",
          "state": {
            "_view_name": "HTMLView",
            "style": "IPY_MODEL_1fde07f8b6b04d19aefbe4499f0d540b",
            "_dom_classes": [],
            "description": "",
            "_model_name": "HTMLModel",
            "placeholder": "​",
            "_view_module": "@jupyter-widgets/controls",
            "_model_module_version": "1.5.0",
            "value": " 267/267 [04:41&lt;00:00,  1.06s/it]",
            "_view_count": null,
            "_view_module_version": "1.5.0",
            "description_tooltip": null,
            "_model_module": "@jupyter-widgets/controls",
            "layout": "IPY_MODEL_736cf6684d584db5b4b15416715dbf26"
          }
        },
        "7eb8c412e97e447e82827ff23659c71f": {
          "model_module": "@jupyter-widgets/controls",
          "model_name": "ProgressStyleModel",
          "state": {
            "_view_name": "StyleView",
            "_model_name": "ProgressStyleModel",
            "description_width": "initial",
            "_view_module": "@jupyter-widgets/base",
            "_model_module_version": "1.5.0",
            "_view_count": null,
            "_view_module_version": "1.2.0",
            "bar_color": null,
            "_model_module": "@jupyter-widgets/controls"
          }
        },
        "efe59e31de9242039c7dcc7fd513b6c0": {
          "model_module": "@jupyter-widgets/base",
          "model_name": "LayoutModel",
          "state": {
            "_view_name": "LayoutView",
            "grid_template_rows": null,
            "right": null,
            "justify_content": null,
            "_view_module": "@jupyter-widgets/base",
            "overflow": null,
            "_model_module_version": "1.2.0",
            "_view_count": null,
            "flex_flow": null,
            "width": null,
            "min_width": null,
            "border": null,
            "align_items": null,
            "bottom": null,
            "_model_module": "@jupyter-widgets/base",
            "top": null,
            "grid_column": null,
            "overflow_y": null,
            "overflow_x": null,
            "grid_auto_flow": null,
            "grid_area": null,
            "grid_template_columns": null,
            "flex": null,
            "_model_name": "LayoutModel",
            "justify_items": null,
            "grid_row": null,
            "max_height": null,
            "align_content": null,
            "visibility": null,
            "align_self": null,
            "height": null,
            "min_height": null,
            "padding": null,
            "grid_auto_rows": null,
            "grid_gap": null,
            "max_width": null,
            "order": null,
            "_view_module_version": "1.2.0",
            "grid_template_areas": null,
            "object_position": null,
            "object_fit": null,
            "grid_auto_columns": null,
            "margin": null,
            "display": null,
            "left": null
          }
        },
        "1fde07f8b6b04d19aefbe4499f0d540b": {
          "model_module": "@jupyter-widgets/controls",
          "model_name": "DescriptionStyleModel",
          "state": {
            "_view_name": "StyleView",
            "_model_name": "DescriptionStyleModel",
            "description_width": "",
            "_view_module": "@jupyter-widgets/base",
            "_model_module_version": "1.5.0",
            "_view_count": null,
            "_view_module_version": "1.2.0",
            "_model_module": "@jupyter-widgets/controls"
          }
        },
        "736cf6684d584db5b4b15416715dbf26": {
          "model_module": "@jupyter-widgets/base",
          "model_name": "LayoutModel",
          "state": {
            "_view_name": "LayoutView",
            "grid_template_rows": null,
            "right": null,
            "justify_content": null,
            "_view_module": "@jupyter-widgets/base",
            "overflow": null,
            "_model_module_version": "1.2.0",
            "_view_count": null,
            "flex_flow": null,
            "width": null,
            "min_width": null,
            "border": null,
            "align_items": null,
            "bottom": null,
            "_model_module": "@jupyter-widgets/base",
            "top": null,
            "grid_column": null,
            "overflow_y": null,
            "overflow_x": null,
            "grid_auto_flow": null,
            "grid_area": null,
            "grid_template_columns": null,
            "flex": null,
            "_model_name": "LayoutModel",
            "justify_items": null,
            "grid_row": null,
            "max_height": null,
            "align_content": null,
            "visibility": null,
            "align_self": null,
            "height": null,
            "min_height": null,
            "padding": null,
            "grid_auto_rows": null,
            "grid_gap": null,
            "max_width": null,
            "order": null,
            "_view_module_version": "1.2.0",
            "grid_template_areas": null,
            "object_position": null,
            "object_fit": null,
            "grid_auto_columns": null,
            "margin": null,
            "display": null,
            "left": null
          }
        },
        "46bf3c63d8c34af09a4a09b8c036d3aa": {
          "model_module": "@jupyter-widgets/controls",
          "model_name": "HBoxModel",
          "state": {
            "_view_name": "HBoxView",
            "_dom_classes": [],
            "_model_name": "HBoxModel",
            "_view_module": "@jupyter-widgets/controls",
            "_model_module_version": "1.5.0",
            "_view_count": null,
            "_view_module_version": "1.5.0",
            "box_style": "",
            "layout": "IPY_MODEL_6ae9198ec48141898d2f7b53c2b43593",
            "_model_module": "@jupyter-widgets/controls",
            "children": [
              "IPY_MODEL_c7afbb715ca5421a8dddd1681357a388",
              "IPY_MODEL_ac1801273d814a638f7cb7748c16e5bc"
            ]
          }
        },
        "6ae9198ec48141898d2f7b53c2b43593": {
          "model_module": "@jupyter-widgets/base",
          "model_name": "LayoutModel",
          "state": {
            "_view_name": "LayoutView",
            "grid_template_rows": null,
            "right": null,
            "justify_content": null,
            "_view_module": "@jupyter-widgets/base",
            "overflow": null,
            "_model_module_version": "1.2.0",
            "_view_count": null,
            "flex_flow": null,
            "width": null,
            "min_width": null,
            "border": null,
            "align_items": null,
            "bottom": null,
            "_model_module": "@jupyter-widgets/base",
            "top": null,
            "grid_column": null,
            "overflow_y": null,
            "overflow_x": null,
            "grid_auto_flow": null,
            "grid_area": null,
            "grid_template_columns": null,
            "flex": null,
            "_model_name": "LayoutModel",
            "justify_items": null,
            "grid_row": null,
            "max_height": null,
            "align_content": null,
            "visibility": null,
            "align_self": null,
            "height": null,
            "min_height": null,
            "padding": null,
            "grid_auto_rows": null,
            "grid_gap": null,
            "max_width": null,
            "order": null,
            "_view_module_version": "1.2.0",
            "grid_template_areas": null,
            "object_position": null,
            "object_fit": null,
            "grid_auto_columns": null,
            "margin": null,
            "display": null,
            "left": null
          }
        },
        "c7afbb715ca5421a8dddd1681357a388": {
          "model_module": "@jupyter-widgets/controls",
          "model_name": "IntProgressModel",
          "state": {
            "_view_name": "ProgressView",
            "style": "IPY_MODEL_75a2cfa94c4d4ba589dbf967b8878af0",
            "_dom_classes": [],
            "description": "100%",
            "_model_name": "IntProgressModel",
            "bar_style": "success",
            "max": 23,
            "_view_module": "@jupyter-widgets/controls",
            "_model_module_version": "1.5.0",
            "value": 23,
            "_view_count": null,
            "_view_module_version": "1.5.0",
            "orientation": "horizontal",
            "min": 0,
            "description_tooltip": null,
            "_model_module": "@jupyter-widgets/controls",
            "layout": "IPY_MODEL_1487f1c0d0484ede9735a78624b5dc14"
          }
        },
        "ac1801273d814a638f7cb7748c16e5bc": {
          "model_module": "@jupyter-widgets/controls",
          "model_name": "HTMLModel",
          "state": {
            "_view_name": "HTMLView",
            "style": "IPY_MODEL_4378f6d1515d4083805967fbc5fa2bed",
            "_dom_classes": [],
            "description": "",
            "_model_name": "HTMLModel",
            "placeholder": "​",
            "_view_module": "@jupyter-widgets/controls",
            "_model_module_version": "1.5.0",
            "value": " 23/23 [09:44&lt;00:00, 25.43s/it]",
            "_view_count": null,
            "_view_module_version": "1.5.0",
            "description_tooltip": null,
            "_model_module": "@jupyter-widgets/controls",
            "layout": "IPY_MODEL_95ed7d979218400cad4ba89450b432b7"
          }
        },
        "75a2cfa94c4d4ba589dbf967b8878af0": {
          "model_module": "@jupyter-widgets/controls",
          "model_name": "ProgressStyleModel",
          "state": {
            "_view_name": "StyleView",
            "_model_name": "ProgressStyleModel",
            "description_width": "initial",
            "_view_module": "@jupyter-widgets/base",
            "_model_module_version": "1.5.0",
            "_view_count": null,
            "_view_module_version": "1.2.0",
            "bar_color": null,
            "_model_module": "@jupyter-widgets/controls"
          }
        },
        "1487f1c0d0484ede9735a78624b5dc14": {
          "model_module": "@jupyter-widgets/base",
          "model_name": "LayoutModel",
          "state": {
            "_view_name": "LayoutView",
            "grid_template_rows": null,
            "right": null,
            "justify_content": null,
            "_view_module": "@jupyter-widgets/base",
            "overflow": null,
            "_model_module_version": "1.2.0",
            "_view_count": null,
            "flex_flow": null,
            "width": null,
            "min_width": null,
            "border": null,
            "align_items": null,
            "bottom": null,
            "_model_module": "@jupyter-widgets/base",
            "top": null,
            "grid_column": null,
            "overflow_y": null,
            "overflow_x": null,
            "grid_auto_flow": null,
            "grid_area": null,
            "grid_template_columns": null,
            "flex": null,
            "_model_name": "LayoutModel",
            "justify_items": null,
            "grid_row": null,
            "max_height": null,
            "align_content": null,
            "visibility": null,
            "align_self": null,
            "height": null,
            "min_height": null,
            "padding": null,
            "grid_auto_rows": null,
            "grid_gap": null,
            "max_width": null,
            "order": null,
            "_view_module_version": "1.2.0",
            "grid_template_areas": null,
            "object_position": null,
            "object_fit": null,
            "grid_auto_columns": null,
            "margin": null,
            "display": null,
            "left": null
          }
        },
        "4378f6d1515d4083805967fbc5fa2bed": {
          "model_module": "@jupyter-widgets/controls",
          "model_name": "DescriptionStyleModel",
          "state": {
            "_view_name": "StyleView",
            "_model_name": "DescriptionStyleModel",
            "description_width": "",
            "_view_module": "@jupyter-widgets/base",
            "_model_module_version": "1.5.0",
            "_view_count": null,
            "_view_module_version": "1.2.0",
            "_model_module": "@jupyter-widgets/controls"
          }
        },
        "95ed7d979218400cad4ba89450b432b7": {
          "model_module": "@jupyter-widgets/base",
          "model_name": "LayoutModel",
          "state": {
            "_view_name": "LayoutView",
            "grid_template_rows": null,
            "right": null,
            "justify_content": null,
            "_view_module": "@jupyter-widgets/base",
            "overflow": null,
            "_model_module_version": "1.2.0",
            "_view_count": null,
            "flex_flow": null,
            "width": null,
            "min_width": null,
            "border": null,
            "align_items": null,
            "bottom": null,
            "_model_module": "@jupyter-widgets/base",
            "top": null,
            "grid_column": null,
            "overflow_y": null,
            "overflow_x": null,
            "grid_auto_flow": null,
            "grid_area": null,
            "grid_template_columns": null,
            "flex": null,
            "_model_name": "LayoutModel",
            "justify_items": null,
            "grid_row": null,
            "max_height": null,
            "align_content": null,
            "visibility": null,
            "align_self": null,
            "height": null,
            "min_height": null,
            "padding": null,
            "grid_auto_rows": null,
            "grid_gap": null,
            "max_width": null,
            "order": null,
            "_view_module_version": "1.2.0",
            "grid_template_areas": null,
            "object_position": null,
            "object_fit": null,
            "grid_auto_columns": null,
            "margin": null,
            "display": null,
            "left": null
          }
        },
        "4c8c53ebdf914603a726be4f6170e3f2": {
          "model_module": "@jupyter-widgets/controls",
          "model_name": "HBoxModel",
          "state": {
            "_view_name": "HBoxView",
            "_dom_classes": [],
            "_model_name": "HBoxModel",
            "_view_module": "@jupyter-widgets/controls",
            "_model_module_version": "1.5.0",
            "_view_count": null,
            "_view_module_version": "1.5.0",
            "box_style": "",
            "layout": "IPY_MODEL_c03adc1402294c629fea67811f44aa3d",
            "_model_module": "@jupyter-widgets/controls",
            "children": [
              "IPY_MODEL_ace294a570c845f0a4ac9c26743866d7",
              "IPY_MODEL_4941c2a7f3e4497dada61fde7b2bf7ea"
            ]
          }
        },
        "c03adc1402294c629fea67811f44aa3d": {
          "model_module": "@jupyter-widgets/base",
          "model_name": "LayoutModel",
          "state": {
            "_view_name": "LayoutView",
            "grid_template_rows": null,
            "right": null,
            "justify_content": null,
            "_view_module": "@jupyter-widgets/base",
            "overflow": null,
            "_model_module_version": "1.2.0",
            "_view_count": null,
            "flex_flow": null,
            "width": null,
            "min_width": null,
            "border": null,
            "align_items": null,
            "bottom": null,
            "_model_module": "@jupyter-widgets/base",
            "top": null,
            "grid_column": null,
            "overflow_y": null,
            "overflow_x": null,
            "grid_auto_flow": null,
            "grid_area": null,
            "grid_template_columns": null,
            "flex": null,
            "_model_name": "LayoutModel",
            "justify_items": null,
            "grid_row": null,
            "max_height": null,
            "align_content": null,
            "visibility": null,
            "align_self": null,
            "height": null,
            "min_height": null,
            "padding": null,
            "grid_auto_rows": null,
            "grid_gap": null,
            "max_width": null,
            "order": null,
            "_view_module_version": "1.2.0",
            "grid_template_areas": null,
            "object_position": null,
            "object_fit": null,
            "grid_auto_columns": null,
            "margin": null,
            "display": null,
            "left": null
          }
        },
        "ace294a570c845f0a4ac9c26743866d7": {
          "model_module": "@jupyter-widgets/controls",
          "model_name": "IntProgressModel",
          "state": {
            "_view_name": "ProgressView",
            "style": "IPY_MODEL_9879ea9b3a674d6bb6bdc1b31cf166e3",
            "_dom_classes": [],
            "description": "100%",
            "_model_name": "IntProgressModel",
            "bar_style": "success",
            "max": 131515,
            "_view_module": "@jupyter-widgets/controls",
            "_model_module_version": "1.5.0",
            "value": 131515,
            "_view_count": null,
            "_view_module_version": "1.5.0",
            "orientation": "horizontal",
            "min": 0,
            "description_tooltip": null,
            "_model_module": "@jupyter-widgets/controls",
            "layout": "IPY_MODEL_1fd17b3394d041559e1b6a2067887cc9"
          }
        },
        "4941c2a7f3e4497dada61fde7b2bf7ea": {
          "model_module": "@jupyter-widgets/controls",
          "model_name": "HTMLModel",
          "state": {
            "_view_name": "HTMLView",
            "style": "IPY_MODEL_ddf9a20e56f94bdb9f510476b78fed3d",
            "_dom_classes": [],
            "description": "",
            "_model_name": "HTMLModel",
            "placeholder": "​",
            "_view_module": "@jupyter-widgets/controls",
            "_model_module_version": "1.5.0",
            "value": " 131515/131515 [04:50&lt;00:00, 452.66it/s]",
            "_view_count": null,
            "_view_module_version": "1.5.0",
            "description_tooltip": null,
            "_model_module": "@jupyter-widgets/controls",
            "layout": "IPY_MODEL_6acccfa8e3f04cfb8bb5a5dfd2d21ea6"
          }
        },
        "9879ea9b3a674d6bb6bdc1b31cf166e3": {
          "model_module": "@jupyter-widgets/controls",
          "model_name": "ProgressStyleModel",
          "state": {
            "_view_name": "StyleView",
            "_model_name": "ProgressStyleModel",
            "description_width": "initial",
            "_view_module": "@jupyter-widgets/base",
            "_model_module_version": "1.5.0",
            "_view_count": null,
            "_view_module_version": "1.2.0",
            "bar_color": null,
            "_model_module": "@jupyter-widgets/controls"
          }
        },
        "1fd17b3394d041559e1b6a2067887cc9": {
          "model_module": "@jupyter-widgets/base",
          "model_name": "LayoutModel",
          "state": {
            "_view_name": "LayoutView",
            "grid_template_rows": null,
            "right": null,
            "justify_content": null,
            "_view_module": "@jupyter-widgets/base",
            "overflow": null,
            "_model_module_version": "1.2.0",
            "_view_count": null,
            "flex_flow": null,
            "width": null,
            "min_width": null,
            "border": null,
            "align_items": null,
            "bottom": null,
            "_model_module": "@jupyter-widgets/base",
            "top": null,
            "grid_column": null,
            "overflow_y": null,
            "overflow_x": null,
            "grid_auto_flow": null,
            "grid_area": null,
            "grid_template_columns": null,
            "flex": null,
            "_model_name": "LayoutModel",
            "justify_items": null,
            "grid_row": null,
            "max_height": null,
            "align_content": null,
            "visibility": null,
            "align_self": null,
            "height": null,
            "min_height": null,
            "padding": null,
            "grid_auto_rows": null,
            "grid_gap": null,
            "max_width": null,
            "order": null,
            "_view_module_version": "1.2.0",
            "grid_template_areas": null,
            "object_position": null,
            "object_fit": null,
            "grid_auto_columns": null,
            "margin": null,
            "display": null,
            "left": null
          }
        },
        "ddf9a20e56f94bdb9f510476b78fed3d": {
          "model_module": "@jupyter-widgets/controls",
          "model_name": "DescriptionStyleModel",
          "state": {
            "_view_name": "StyleView",
            "_model_name": "DescriptionStyleModel",
            "description_width": "",
            "_view_module": "@jupyter-widgets/base",
            "_model_module_version": "1.5.0",
            "_view_count": null,
            "_view_module_version": "1.2.0",
            "_model_module": "@jupyter-widgets/controls"
          }
        },
        "6acccfa8e3f04cfb8bb5a5dfd2d21ea6": {
          "model_module": "@jupyter-widgets/base",
          "model_name": "LayoutModel",
          "state": {
            "_view_name": "LayoutView",
            "grid_template_rows": null,
            "right": null,
            "justify_content": null,
            "_view_module": "@jupyter-widgets/base",
            "overflow": null,
            "_model_module_version": "1.2.0",
            "_view_count": null,
            "flex_flow": null,
            "width": null,
            "min_width": null,
            "border": null,
            "align_items": null,
            "bottom": null,
            "_model_module": "@jupyter-widgets/base",
            "top": null,
            "grid_column": null,
            "overflow_y": null,
            "overflow_x": null,
            "grid_auto_flow": null,
            "grid_area": null,
            "grid_template_columns": null,
            "flex": null,
            "_model_name": "LayoutModel",
            "justify_items": null,
            "grid_row": null,
            "max_height": null,
            "align_content": null,
            "visibility": null,
            "align_self": null,
            "height": null,
            "min_height": null,
            "padding": null,
            "grid_auto_rows": null,
            "grid_gap": null,
            "max_width": null,
            "order": null,
            "_view_module_version": "1.2.0",
            "grid_template_areas": null,
            "object_position": null,
            "object_fit": null,
            "grid_auto_columns": null,
            "margin": null,
            "display": null,
            "left": null
          }
        },
        "c1fcc9cc763e404d8ea02d05f201d56b": {
          "model_module": "@jupyter-widgets/controls",
          "model_name": "HBoxModel",
          "state": {
            "_view_name": "HBoxView",
            "_dom_classes": [],
            "_model_name": "HBoxModel",
            "_view_module": "@jupyter-widgets/controls",
            "_model_module_version": "1.5.0",
            "_view_count": null,
            "_view_module_version": "1.5.0",
            "box_style": "",
            "layout": "IPY_MODEL_6b47a97e780e48928b9c36327b7ba0be",
            "_model_module": "@jupyter-widgets/controls",
            "children": [
              "IPY_MODEL_d97bc975c84e4f1d87054f0167a8e810",
              "IPY_MODEL_711877b5b06546b78e849fbf5ace9022"
            ]
          }
        },
        "6b47a97e780e48928b9c36327b7ba0be": {
          "model_module": "@jupyter-widgets/base",
          "model_name": "LayoutModel",
          "state": {
            "_view_name": "LayoutView",
            "grid_template_rows": null,
            "right": null,
            "justify_content": null,
            "_view_module": "@jupyter-widgets/base",
            "overflow": null,
            "_model_module_version": "1.2.0",
            "_view_count": null,
            "flex_flow": null,
            "width": null,
            "min_width": null,
            "border": null,
            "align_items": null,
            "bottom": null,
            "_model_module": "@jupyter-widgets/base",
            "top": null,
            "grid_column": null,
            "overflow_y": null,
            "overflow_x": null,
            "grid_auto_flow": null,
            "grid_area": null,
            "grid_template_columns": null,
            "flex": null,
            "_model_name": "LayoutModel",
            "justify_items": null,
            "grid_row": null,
            "max_height": null,
            "align_content": null,
            "visibility": null,
            "align_self": null,
            "height": null,
            "min_height": null,
            "padding": null,
            "grid_auto_rows": null,
            "grid_gap": null,
            "max_width": null,
            "order": null,
            "_view_module_version": "1.2.0",
            "grid_template_areas": null,
            "object_position": null,
            "object_fit": null,
            "grid_auto_columns": null,
            "margin": null,
            "display": null,
            "left": null
          }
        },
        "d97bc975c84e4f1d87054f0167a8e810": {
          "model_module": "@jupyter-widgets/controls",
          "model_name": "IntProgressModel",
          "state": {
            "_view_name": "ProgressView",
            "style": "IPY_MODEL_9e3811cf717b49df8e9528b8faa5c12d",
            "_dom_classes": [],
            "description": "100%",
            "_model_name": "IntProgressModel",
            "bar_style": "success",
            "max": 131515,
            "_view_module": "@jupyter-widgets/controls",
            "_model_module_version": "1.5.0",
            "value": 131515,
            "_view_count": null,
            "_view_module_version": "1.5.0",
            "orientation": "horizontal",
            "min": 0,
            "description_tooltip": null,
            "_model_module": "@jupyter-widgets/controls",
            "layout": "IPY_MODEL_9f5d87620df44367bc61adbf6a05d47f"
          }
        },
        "711877b5b06546b78e849fbf5ace9022": {
          "model_module": "@jupyter-widgets/controls",
          "model_name": "HTMLModel",
          "state": {
            "_view_name": "HTMLView",
            "style": "IPY_MODEL_ef08f73e912243be87ddafa323ff89f1",
            "_dom_classes": [],
            "description": "",
            "_model_name": "HTMLModel",
            "placeholder": "​",
            "_view_module": "@jupyter-widgets/controls",
            "_model_module_version": "1.5.0",
            "value": " 131515/131515 [00:06&lt;00:00, 19288.12it/s]",
            "_view_count": null,
            "_view_module_version": "1.5.0",
            "description_tooltip": null,
            "_model_module": "@jupyter-widgets/controls",
            "layout": "IPY_MODEL_af0376df476c4b94877bf4c0432c23df"
          }
        },
        "9e3811cf717b49df8e9528b8faa5c12d": {
          "model_module": "@jupyter-widgets/controls",
          "model_name": "ProgressStyleModel",
          "state": {
            "_view_name": "StyleView",
            "_model_name": "ProgressStyleModel",
            "description_width": "initial",
            "_view_module": "@jupyter-widgets/base",
            "_model_module_version": "1.5.0",
            "_view_count": null,
            "_view_module_version": "1.2.0",
            "bar_color": null,
            "_model_module": "@jupyter-widgets/controls"
          }
        },
        "9f5d87620df44367bc61adbf6a05d47f": {
          "model_module": "@jupyter-widgets/base",
          "model_name": "LayoutModel",
          "state": {
            "_view_name": "LayoutView",
            "grid_template_rows": null,
            "right": null,
            "justify_content": null,
            "_view_module": "@jupyter-widgets/base",
            "overflow": null,
            "_model_module_version": "1.2.0",
            "_view_count": null,
            "flex_flow": null,
            "width": null,
            "min_width": null,
            "border": null,
            "align_items": null,
            "bottom": null,
            "_model_module": "@jupyter-widgets/base",
            "top": null,
            "grid_column": null,
            "overflow_y": null,
            "overflow_x": null,
            "grid_auto_flow": null,
            "grid_area": null,
            "grid_template_columns": null,
            "flex": null,
            "_model_name": "LayoutModel",
            "justify_items": null,
            "grid_row": null,
            "max_height": null,
            "align_content": null,
            "visibility": null,
            "align_self": null,
            "height": null,
            "min_height": null,
            "padding": null,
            "grid_auto_rows": null,
            "grid_gap": null,
            "max_width": null,
            "order": null,
            "_view_module_version": "1.2.0",
            "grid_template_areas": null,
            "object_position": null,
            "object_fit": null,
            "grid_auto_columns": null,
            "margin": null,
            "display": null,
            "left": null
          }
        },
        "ef08f73e912243be87ddafa323ff89f1": {
          "model_module": "@jupyter-widgets/controls",
          "model_name": "DescriptionStyleModel",
          "state": {
            "_view_name": "StyleView",
            "_model_name": "DescriptionStyleModel",
            "description_width": "",
            "_view_module": "@jupyter-widgets/base",
            "_model_module_version": "1.5.0",
            "_view_count": null,
            "_view_module_version": "1.2.0",
            "_model_module": "@jupyter-widgets/controls"
          }
        },
        "af0376df476c4b94877bf4c0432c23df": {
          "model_module": "@jupyter-widgets/base",
          "model_name": "LayoutModel",
          "state": {
            "_view_name": "LayoutView",
            "grid_template_rows": null,
            "right": null,
            "justify_content": null,
            "_view_module": "@jupyter-widgets/base",
            "overflow": null,
            "_model_module_version": "1.2.0",
            "_view_count": null,
            "flex_flow": null,
            "width": null,
            "min_width": null,
            "border": null,
            "align_items": null,
            "bottom": null,
            "_model_module": "@jupyter-widgets/base",
            "top": null,
            "grid_column": null,
            "overflow_y": null,
            "overflow_x": null,
            "grid_auto_flow": null,
            "grid_area": null,
            "grid_template_columns": null,
            "flex": null,
            "_model_name": "LayoutModel",
            "justify_items": null,
            "grid_row": null,
            "max_height": null,
            "align_content": null,
            "visibility": null,
            "align_self": null,
            "height": null,
            "min_height": null,
            "padding": null,
            "grid_auto_rows": null,
            "grid_gap": null,
            "max_width": null,
            "order": null,
            "_view_module_version": "1.2.0",
            "grid_template_areas": null,
            "object_position": null,
            "object_fit": null,
            "grid_auto_columns": null,
            "margin": null,
            "display": null,
            "left": null
          }
        }
      }
    }
  },
  "cells": [
    {
      "cell_type": "markdown",
      "metadata": {
        "id": "view-in-github",
        "colab_type": "text"
      },
      "source": [
        "<a href=\"https://colab.research.google.com/github/Anna172/Mainor/blob/master/DiversEnd.ipynb\" target=\"_parent\"><img src=\"https://colab.research.google.com/assets/colab-badge.svg\" alt=\"Open In Colab\"/></a>"
      ]
    },
    {
      "cell_type": "markdown",
      "metadata": {
        "id": "tWTLzTol5pqP",
        "colab_type": "text"
      },
      "source": [
        ""
      ]
    },
    {
      "cell_type": "code",
      "metadata": {
        "id": "AYCOdyHmStEB",
        "colab_type": "code",
        "colab": {}
      },
      "source": [
        "import numpy as np\n",
        "import pandas as pd\n",
        "import math\n",
        "from tqdm import tqdm_notebook"
      ],
      "execution_count": 0,
      "outputs": []
    },
    {
      "cell_type": "code",
      "metadata": {
        "id": "gTLCWoiow3SM",
        "colab_type": "code",
        "colab": {}
      },
      "source": [
        "#from tqdm import tqdm_notebook\n",
        "#for i in tqdm_notebook(range(N)):\n",
        "# просто цикл оборачиваешь в эту штуку и все"
      ],
      "execution_count": 0,
      "outputs": []
    },
    {
      "cell_type": "code",
      "metadata": {
        "id": "Mg-jzH4aS5oj",
        "colab_type": "code",
        "colab": {
          "base_uri": "https://localhost:8080/",
          "height": 251
        },
        "outputId": "0c045934-f47d-4898-ab9c-ca164401ca7a"
      },
      "source": [
        "data = pd.read_csv(\"DomFull2.csv\")\n",
        "data.head()"
      ],
      "execution_count": 3,
      "outputs": [
        {
          "output_type": "execute_result",
          "data": {
            "text/html": [
              "<div>\n",
              "<style scoped>\n",
              "    .dataframe tbody tr th:only-of-type {\n",
              "        vertical-align: middle;\n",
              "    }\n",
              "\n",
              "    .dataframe tbody tr th {\n",
              "        vertical-align: top;\n",
              "    }\n",
              "\n",
              "    .dataframe thead th {\n",
              "        text-align: right;\n",
              "    }\n",
              "</style>\n",
              "<table border=\"1\" class=\"dataframe\">\n",
              "  <thead>\n",
              "    <tr style=\"text-align: right;\">\n",
              "      <th></th>\n",
              "      <th>ID_W</th>\n",
              "      <th>ID_H</th>\n",
              "      <th>STATUS</th>\n",
              "      <th>A3</th>\n",
              "      <th>A3_3</th>\n",
              "      <th>NFM</th>\n",
              "      <th>B1_1</th>\n",
              "      <th>IDIND1</th>\n",
              "      <th>B1_2_1</th>\n",
              "      <th>B1_2_2</th>\n",
              "      <th>B1_4</th>\n",
              "      <th>B1_5</th>\n",
              "      <th>B1_8</th>\n",
              "      <th>B2_1</th>\n",
              "      <th>IDIND2</th>\n",
              "      <th>B2_2_1</th>\n",
              "      <th>B2_2_2</th>\n",
              "      <th>B2_4</th>\n",
              "      <th>B2_5</th>\n",
              "      <th>B2_8</th>\n",
              "      <th>B2_9_1</th>\n",
              "      <th>B3_1</th>\n",
              "      <th>IDIND3</th>\n",
              "      <th>B3_2_1</th>\n",
              "      <th>B3_2_2</th>\n",
              "      <th>B3_4</th>\n",
              "      <th>B3_5</th>\n",
              "      <th>B3_8</th>\n",
              "      <th>B3_9_1</th>\n",
              "      <th>B3_9_2</th>\n",
              "      <th>B4_1</th>\n",
              "      <th>IDIND4</th>\n",
              "      <th>B4_2_1</th>\n",
              "      <th>B4_2_2</th>\n",
              "      <th>B4_4</th>\n",
              "      <th>B4_5</th>\n",
              "      <th>B4_8</th>\n",
              "      <th>B4_9_1</th>\n",
              "      <th>B4_9_2</th>\n",
              "      <th>B4_9_3</th>\n",
              "      <th>...</th>\n",
              "      <th>FATHER</th>\n",
              "      <th>CHILDS</th>\n",
              "      <th>ID_I</th>\n",
              "      <th>MARST_B1</th>\n",
              "      <th>EDUC_B1</th>\n",
              "      <th>H4_B1</th>\n",
              "      <th>AGE_B1</th>\n",
              "      <th>INCOME_B1</th>\n",
              "      <th>MARST_B2</th>\n",
              "      <th>EDUC_B2</th>\n",
              "      <th>H4_B2</th>\n",
              "      <th>AGE_B2</th>\n",
              "      <th>INCOME_B2</th>\n",
              "      <th>MARST_B3</th>\n",
              "      <th>EDUC_B3</th>\n",
              "      <th>H4_B3</th>\n",
              "      <th>AGE_B3</th>\n",
              "      <th>INCOME_B3</th>\n",
              "      <th>MARST_B4</th>\n",
              "      <th>EDUC_B4</th>\n",
              "      <th>H4_B4</th>\n",
              "      <th>AGE_B4</th>\n",
              "      <th>INCOME_B4</th>\n",
              "      <th>MARST_M</th>\n",
              "      <th>EDUC_M</th>\n",
              "      <th>H4_M</th>\n",
              "      <th>AGE_M</th>\n",
              "      <th>J322_M</th>\n",
              "      <th>INCOME_M</th>\n",
              "      <th>MARST_F</th>\n",
              "      <th>EDUC_F</th>\n",
              "      <th>H4_F</th>\n",
              "      <th>AGE_F</th>\n",
              "      <th>J322_F</th>\n",
              "      <th>INCOME_F</th>\n",
              "      <th>ParentsFreeChilds</th>\n",
              "      <th>ParentsFreeChilds1</th>\n",
              "      <th>ParentsFreeChilds2</th>\n",
              "      <th>ParentsFreeChilds3</th>\n",
              "      <th>ParentsFreeChilds4</th>\n",
              "    </tr>\n",
              "  </thead>\n",
              "  <tbody>\n",
              "    <tr>\n",
              "      <th>0</th>\n",
              "      <td>5</td>\n",
              "      <td>1001</td>\n",
              "      <td>3</td>\n",
              "      <td>1</td>\n",
              "      <td>NaN</td>\n",
              "      <td>2</td>\n",
              "      <td>1.0</td>\n",
              "      <td>1.0</td>\n",
              "      <td>NaN</td>\n",
              "      <td>NaN</td>\n",
              "      <td>2.0</td>\n",
              "      <td>1973.0</td>\n",
              "      <td>2.0</td>\n",
              "      <td>2.0</td>\n",
              "      <td>2.0</td>\n",
              "      <td>NaN</td>\n",
              "      <td>NaN</td>\n",
              "      <td>1.0</td>\n",
              "      <td>1971.0</td>\n",
              "      <td>2.0</td>\n",
              "      <td>1.0</td>\n",
              "      <td>NaN</td>\n",
              "      <td>NaN</td>\n",
              "      <td>NaN</td>\n",
              "      <td>NaN</td>\n",
              "      <td>NaN</td>\n",
              "      <td>NaN</td>\n",
              "      <td>NaN</td>\n",
              "      <td>NaN</td>\n",
              "      <td>NaN</td>\n",
              "      <td>NaN</td>\n",
              "      <td>NaN</td>\n",
              "      <td>NaN</td>\n",
              "      <td>NaN</td>\n",
              "      <td>NaN</td>\n",
              "      <td>NaN</td>\n",
              "      <td>NaN</td>\n",
              "      <td>NaN</td>\n",
              "      <td>NaN</td>\n",
              "      <td>NaN</td>\n",
              "      <td>...</td>\n",
              "      <td>0.0</td>\n",
              "      <td>0</td>\n",
              "      <td>NaN</td>\n",
              "      <td>NaN</td>\n",
              "      <td>NaN</td>\n",
              "      <td>NaN</td>\n",
              "      <td>NaN</td>\n",
              "      <td>NaN</td>\n",
              "      <td>NaN</td>\n",
              "      <td>NaN</td>\n",
              "      <td>NaN</td>\n",
              "      <td>NaN</td>\n",
              "      <td>NaN</td>\n",
              "      <td>NaN</td>\n",
              "      <td>NaN</td>\n",
              "      <td>NaN</td>\n",
              "      <td>NaN</td>\n",
              "      <td>NaN</td>\n",
              "      <td>NaN</td>\n",
              "      <td>NaN</td>\n",
              "      <td>NaN</td>\n",
              "      <td>NaN</td>\n",
              "      <td>NaN</td>\n",
              "      <td>NaN</td>\n",
              "      <td>NaN</td>\n",
              "      <td>NaN</td>\n",
              "      <td>NaN</td>\n",
              "      <td>NaN</td>\n",
              "      <td>NaN</td>\n",
              "      <td>NaN</td>\n",
              "      <td>NaN</td>\n",
              "      <td>NaN</td>\n",
              "      <td>NaN</td>\n",
              "      <td>NaN</td>\n",
              "      <td>NaN</td>\n",
              "      <td>0.0</td>\n",
              "      <td>0.0</td>\n",
              "      <td>0.0</td>\n",
              "      <td>0.0</td>\n",
              "      <td>0.0</td>\n",
              "    </tr>\n",
              "    <tr>\n",
              "      <th>1</th>\n",
              "      <td>5</td>\n",
              "      <td>1002</td>\n",
              "      <td>3</td>\n",
              "      <td>2</td>\n",
              "      <td>NaN</td>\n",
              "      <td>4</td>\n",
              "      <td>1.0</td>\n",
              "      <td>3.0</td>\n",
              "      <td>NaN</td>\n",
              "      <td>NaN</td>\n",
              "      <td>2.0</td>\n",
              "      <td>1955.0</td>\n",
              "      <td>3.0</td>\n",
              "      <td>2.0</td>\n",
              "      <td>4.0</td>\n",
              "      <td>NaN</td>\n",
              "      <td>NaN</td>\n",
              "      <td>1.0</td>\n",
              "      <td>1949.0</td>\n",
              "      <td>3.0</td>\n",
              "      <td>1.0</td>\n",
              "      <td>3.0</td>\n",
              "      <td>5.0</td>\n",
              "      <td>NaN</td>\n",
              "      <td>NaN</td>\n",
              "      <td>2.0</td>\n",
              "      <td>1984.0</td>\n",
              "      <td>NaN</td>\n",
              "      <td>4.0</td>\n",
              "      <td>4.0</td>\n",
              "      <td>4.0</td>\n",
              "      <td>6.0</td>\n",
              "      <td>NaN</td>\n",
              "      <td>NaN</td>\n",
              "      <td>1.0</td>\n",
              "      <td>1986.0</td>\n",
              "      <td>NaN</td>\n",
              "      <td>4.0</td>\n",
              "      <td>4.0</td>\n",
              "      <td>6.0</td>\n",
              "      <td>...</td>\n",
              "      <td>0.0</td>\n",
              "      <td>0</td>\n",
              "      <td>NaN</td>\n",
              "      <td>NaN</td>\n",
              "      <td>NaN</td>\n",
              "      <td>NaN</td>\n",
              "      <td>NaN</td>\n",
              "      <td>NaN</td>\n",
              "      <td>NaN</td>\n",
              "      <td>NaN</td>\n",
              "      <td>NaN</td>\n",
              "      <td>NaN</td>\n",
              "      <td>NaN</td>\n",
              "      <td>NaN</td>\n",
              "      <td>NaN</td>\n",
              "      <td>NaN</td>\n",
              "      <td>NaN</td>\n",
              "      <td>NaN</td>\n",
              "      <td>NaN</td>\n",
              "      <td>NaN</td>\n",
              "      <td>NaN</td>\n",
              "      <td>NaN</td>\n",
              "      <td>NaN</td>\n",
              "      <td>NaN</td>\n",
              "      <td>NaN</td>\n",
              "      <td>NaN</td>\n",
              "      <td>NaN</td>\n",
              "      <td>NaN</td>\n",
              "      <td>NaN</td>\n",
              "      <td>NaN</td>\n",
              "      <td>NaN</td>\n",
              "      <td>NaN</td>\n",
              "      <td>NaN</td>\n",
              "      <td>NaN</td>\n",
              "      <td>NaN</td>\n",
              "      <td>0.0</td>\n",
              "      <td>0.0</td>\n",
              "      <td>0.0</td>\n",
              "      <td>0.0</td>\n",
              "      <td>0.0</td>\n",
              "    </tr>\n",
              "    <tr>\n",
              "      <th>2</th>\n",
              "      <td>5</td>\n",
              "      <td>1003</td>\n",
              "      <td>3</td>\n",
              "      <td>3</td>\n",
              "      <td>NaN</td>\n",
              "      <td>1</td>\n",
              "      <td>1.0</td>\n",
              "      <td>7.0</td>\n",
              "      <td>NaN</td>\n",
              "      <td>NaN</td>\n",
              "      <td>2.0</td>\n",
              "      <td>1944.0</td>\n",
              "      <td>3.0</td>\n",
              "      <td>NaN</td>\n",
              "      <td>NaN</td>\n",
              "      <td>NaN</td>\n",
              "      <td>NaN</td>\n",
              "      <td>NaN</td>\n",
              "      <td>NaN</td>\n",
              "      <td>NaN</td>\n",
              "      <td>NaN</td>\n",
              "      <td>NaN</td>\n",
              "      <td>NaN</td>\n",
              "      <td>NaN</td>\n",
              "      <td>NaN</td>\n",
              "      <td>NaN</td>\n",
              "      <td>NaN</td>\n",
              "      <td>NaN</td>\n",
              "      <td>NaN</td>\n",
              "      <td>NaN</td>\n",
              "      <td>NaN</td>\n",
              "      <td>NaN</td>\n",
              "      <td>NaN</td>\n",
              "      <td>NaN</td>\n",
              "      <td>NaN</td>\n",
              "      <td>NaN</td>\n",
              "      <td>NaN</td>\n",
              "      <td>NaN</td>\n",
              "      <td>NaN</td>\n",
              "      <td>NaN</td>\n",
              "      <td>...</td>\n",
              "      <td>0.0</td>\n",
              "      <td>0</td>\n",
              "      <td>NaN</td>\n",
              "      <td>NaN</td>\n",
              "      <td>NaN</td>\n",
              "      <td>NaN</td>\n",
              "      <td>NaN</td>\n",
              "      <td>NaN</td>\n",
              "      <td>NaN</td>\n",
              "      <td>NaN</td>\n",
              "      <td>NaN</td>\n",
              "      <td>NaN</td>\n",
              "      <td>NaN</td>\n",
              "      <td>NaN</td>\n",
              "      <td>NaN</td>\n",
              "      <td>NaN</td>\n",
              "      <td>NaN</td>\n",
              "      <td>NaN</td>\n",
              "      <td>NaN</td>\n",
              "      <td>NaN</td>\n",
              "      <td>NaN</td>\n",
              "      <td>NaN</td>\n",
              "      <td>NaN</td>\n",
              "      <td>NaN</td>\n",
              "      <td>NaN</td>\n",
              "      <td>NaN</td>\n",
              "      <td>NaN</td>\n",
              "      <td>NaN</td>\n",
              "      <td>NaN</td>\n",
              "      <td>NaN</td>\n",
              "      <td>NaN</td>\n",
              "      <td>NaN</td>\n",
              "      <td>NaN</td>\n",
              "      <td>NaN</td>\n",
              "      <td>NaN</td>\n",
              "      <td>0.0</td>\n",
              "      <td>0.0</td>\n",
              "      <td>0.0</td>\n",
              "      <td>0.0</td>\n",
              "      <td>0.0</td>\n",
              "    </tr>\n",
              "    <tr>\n",
              "      <th>3</th>\n",
              "      <td>5</td>\n",
              "      <td>1004</td>\n",
              "      <td>3</td>\n",
              "      <td>4</td>\n",
              "      <td>NaN</td>\n",
              "      <td>1</td>\n",
              "      <td>1.0</td>\n",
              "      <td>8.0</td>\n",
              "      <td>NaN</td>\n",
              "      <td>NaN</td>\n",
              "      <td>2.0</td>\n",
              "      <td>1968.0</td>\n",
              "      <td>1.0</td>\n",
              "      <td>NaN</td>\n",
              "      <td>NaN</td>\n",
              "      <td>NaN</td>\n",
              "      <td>NaN</td>\n",
              "      <td>NaN</td>\n",
              "      <td>NaN</td>\n",
              "      <td>NaN</td>\n",
              "      <td>NaN</td>\n",
              "      <td>NaN</td>\n",
              "      <td>NaN</td>\n",
              "      <td>NaN</td>\n",
              "      <td>NaN</td>\n",
              "      <td>NaN</td>\n",
              "      <td>NaN</td>\n",
              "      <td>NaN</td>\n",
              "      <td>NaN</td>\n",
              "      <td>NaN</td>\n",
              "      <td>NaN</td>\n",
              "      <td>NaN</td>\n",
              "      <td>NaN</td>\n",
              "      <td>NaN</td>\n",
              "      <td>NaN</td>\n",
              "      <td>NaN</td>\n",
              "      <td>NaN</td>\n",
              "      <td>NaN</td>\n",
              "      <td>NaN</td>\n",
              "      <td>NaN</td>\n",
              "      <td>...</td>\n",
              "      <td>0.0</td>\n",
              "      <td>0</td>\n",
              "      <td>NaN</td>\n",
              "      <td>NaN</td>\n",
              "      <td>NaN</td>\n",
              "      <td>NaN</td>\n",
              "      <td>NaN</td>\n",
              "      <td>NaN</td>\n",
              "      <td>NaN</td>\n",
              "      <td>NaN</td>\n",
              "      <td>NaN</td>\n",
              "      <td>NaN</td>\n",
              "      <td>NaN</td>\n",
              "      <td>NaN</td>\n",
              "      <td>NaN</td>\n",
              "      <td>NaN</td>\n",
              "      <td>NaN</td>\n",
              "      <td>NaN</td>\n",
              "      <td>NaN</td>\n",
              "      <td>NaN</td>\n",
              "      <td>NaN</td>\n",
              "      <td>NaN</td>\n",
              "      <td>NaN</td>\n",
              "      <td>NaN</td>\n",
              "      <td>NaN</td>\n",
              "      <td>NaN</td>\n",
              "      <td>NaN</td>\n",
              "      <td>NaN</td>\n",
              "      <td>NaN</td>\n",
              "      <td>NaN</td>\n",
              "      <td>NaN</td>\n",
              "      <td>NaN</td>\n",
              "      <td>NaN</td>\n",
              "      <td>NaN</td>\n",
              "      <td>NaN</td>\n",
              "      <td>0.0</td>\n",
              "      <td>0.0</td>\n",
              "      <td>0.0</td>\n",
              "      <td>0.0</td>\n",
              "      <td>0.0</td>\n",
              "    </tr>\n",
              "    <tr>\n",
              "      <th>4</th>\n",
              "      <td>5</td>\n",
              "      <td>1005</td>\n",
              "      <td>3</td>\n",
              "      <td>5</td>\n",
              "      <td>NaN</td>\n",
              "      <td>2</td>\n",
              "      <td>1.0</td>\n",
              "      <td>9.0</td>\n",
              "      <td>NaN</td>\n",
              "      <td>NaN</td>\n",
              "      <td>2.0</td>\n",
              "      <td>1946.0</td>\n",
              "      <td>2.0</td>\n",
              "      <td>2.0</td>\n",
              "      <td>10.0</td>\n",
              "      <td>NaN</td>\n",
              "      <td>NaN</td>\n",
              "      <td>1.0</td>\n",
              "      <td>1951.0</td>\n",
              "      <td>2.0</td>\n",
              "      <td>1.0</td>\n",
              "      <td>NaN</td>\n",
              "      <td>NaN</td>\n",
              "      <td>NaN</td>\n",
              "      <td>NaN</td>\n",
              "      <td>NaN</td>\n",
              "      <td>NaN</td>\n",
              "      <td>NaN</td>\n",
              "      <td>NaN</td>\n",
              "      <td>NaN</td>\n",
              "      <td>NaN</td>\n",
              "      <td>NaN</td>\n",
              "      <td>NaN</td>\n",
              "      <td>NaN</td>\n",
              "      <td>NaN</td>\n",
              "      <td>NaN</td>\n",
              "      <td>NaN</td>\n",
              "      <td>NaN</td>\n",
              "      <td>NaN</td>\n",
              "      <td>NaN</td>\n",
              "      <td>...</td>\n",
              "      <td>0.0</td>\n",
              "      <td>0</td>\n",
              "      <td>NaN</td>\n",
              "      <td>NaN</td>\n",
              "      <td>NaN</td>\n",
              "      <td>NaN</td>\n",
              "      <td>NaN</td>\n",
              "      <td>NaN</td>\n",
              "      <td>NaN</td>\n",
              "      <td>NaN</td>\n",
              "      <td>NaN</td>\n",
              "      <td>NaN</td>\n",
              "      <td>NaN</td>\n",
              "      <td>NaN</td>\n",
              "      <td>NaN</td>\n",
              "      <td>NaN</td>\n",
              "      <td>NaN</td>\n",
              "      <td>NaN</td>\n",
              "      <td>NaN</td>\n",
              "      <td>NaN</td>\n",
              "      <td>NaN</td>\n",
              "      <td>NaN</td>\n",
              "      <td>NaN</td>\n",
              "      <td>NaN</td>\n",
              "      <td>NaN</td>\n",
              "      <td>NaN</td>\n",
              "      <td>NaN</td>\n",
              "      <td>NaN</td>\n",
              "      <td>NaN</td>\n",
              "      <td>NaN</td>\n",
              "      <td>NaN</td>\n",
              "      <td>NaN</td>\n",
              "      <td>NaN</td>\n",
              "      <td>NaN</td>\n",
              "      <td>NaN</td>\n",
              "      <td>0.0</td>\n",
              "      <td>0.0</td>\n",
              "      <td>0.0</td>\n",
              "      <td>0.0</td>\n",
              "      <td>0.0</td>\n",
              "    </tr>\n",
              "  </tbody>\n",
              "</table>\n",
              "<p>5 rows × 377 columns</p>\n",
              "</div>"
            ],
            "text/plain": [
              "   ID_W  ID_H  ...  ParentsFreeChilds3  ParentsFreeChilds4\n",
              "0     5  1001  ...                 0.0                 0.0\n",
              "1     5  1002  ...                 0.0                 0.0\n",
              "2     5  1003  ...                 0.0                 0.0\n",
              "3     5  1004  ...                 0.0                 0.0\n",
              "4     5  1005  ...                 0.0                 0.0\n",
              "\n",
              "[5 rows x 377 columns]"
            ]
          },
          "metadata": {
            "tags": []
          },
          "execution_count": 3
        }
      ]
    },
    {
      "cell_type": "code",
      "metadata": {
        "id": "m0mauJtRmarn",
        "colab_type": "code",
        "colab": {
          "base_uri": "https://localhost:8080/",
          "height": 35
        },
        "outputId": "9e6bb236-c12e-488a-9742-83e9e1b9de23"
      },
      "source": [
        "data.shape"
      ],
      "execution_count": 4,
      "outputs": [
        {
          "output_type": "execute_result",
          "data": {
            "text/plain": [
              "(131515, 377)"
            ]
          },
          "metadata": {
            "tags": []
          },
          "execution_count": 4
        }
      ]
    },
    {
      "cell_type": "code",
      "metadata": {
        "id": "8KcUBVIPmdVb",
        "colab_type": "code",
        "colab": {
          "base_uri": "https://localhost:8080/",
          "height": 156,
          "referenced_widgets": [
            "5fe2fed1c52e458785418e9e9c6eaadc",
            "4ecc0dbd51d246a6bc5868874f231a9c",
            "5ba3749abfb245829d29c56d2b481777",
            "f33e559e6b044ce8818a7e8a9f265ab1",
            "15a9d8d415704ef99a81ad6bb9b67ac4",
            "692cebf79b464e9f893960eed3148d37",
            "67d0fb3d8bce4d85a1de79ac19784394",
            "d08b31c9309640d1abf0d94c9c00a48e"
          ]
        },
        "outputId": "93eb7632-8c1b-4720-f216-44525908fdd4"
      },
      "source": [
        "# все дети для которых будет предсказываться образование\n",
        "childs = set()\n",
        "for main_index in tqdm_notebook(range(len(data))):\n",
        "  for i in range(1,5):\n",
        "    Baby = \"BABY\" + str(i)\n",
        "    if data.loc[main_index, Baby] != 0:\n",
        "      childs.add(data.loc[main_index, Baby])\n",
        "      \n",
        "len(childs)"
      ],
      "execution_count": 5,
      "outputs": [
        {
          "output_type": "stream",
          "text": [
            "/usr/local/lib/python3.6/dist-packages/ipykernel_launcher.py:2: TqdmDeprecationWarning: This function will be removed in tqdm==5.0.0\n",
            "Please use `tqdm.notebook.tqdm` instead of `tqdm.tqdm_notebook`\n",
            "  \n"
          ],
          "name": "stderr"
        },
        {
          "output_type": "display_data",
          "data": {
            "application/vnd.jupyter.widget-view+json": {
              "model_id": "5fe2fed1c52e458785418e9e9c6eaadc",
              "version_minor": 0,
              "version_major": 2
            },
            "text/plain": [
              "HBox(children=(IntProgress(value=0, max=131515), HTML(value='')))"
            ]
          },
          "metadata": {
            "tags": []
          }
        },
        {
          "output_type": "stream",
          "text": [
            "\n"
          ],
          "name": "stdout"
        },
        {
          "output_type": "execute_result",
          "data": {
            "text/plain": [
              "4821"
            ]
          },
          "metadata": {
            "tags": []
          },
          "execution_count": 5
        }
      ]
    },
    {
      "cell_type": "code",
      "metadata": {
        "id": "4WvLj0UXn7L3",
        "colab_type": "code",
        "colab": {
          "base_uri": "https://localhost:8080/",
          "height": 156,
          "referenced_widgets": [
            "15976c701f5b42b989a6ba6def280487",
            "f3c38267d11543b7823a37a84bed61ba",
            "879db49e5b02455fb5b585adfa85657b",
            "bfb7a0628ce9449cbaf4196a078c8279",
            "43214368d51c417ea236408f85010505",
            "78bb9acb77a5427a85a7ecb80fb8b81a",
            "daeb13e5ee6a462c8ccf8ab14a5cd8ec",
            "c98c53d25bc14356a06f9476fdd2c9d6"
          ]
        },
        "outputId": "33f005f3-1f85-48d2-af89-466f3c608ef5"
      },
      "source": [
        "# дети, которые остались без отца/матери до 19 лет\n",
        "childsFreeFather = set()\n",
        "childsFreeMother = set()\n",
        "for child in tqdm_notebook(childs):\n",
        "  for i in range(1,5):\n",
        "    Baby = \"BABY\" + str(i)\n",
        "    if (len(data[(data[Baby] == child)]) == len(data[(data[Baby]==child) & (data['FATHER'] == 0)])) & (len(data[(data[Baby] == child)]) != 0):\n",
        "      childsFreeFather.add(child)\n",
        "    if (len(data[(data[Baby] == child)]) == len(data[(data[Baby]==child) & (data['MOTHER'] == 0)])) & (len(data[(data[Baby] == child)]) != 0):\n",
        "      childsFreeMother.add(child)\n",
        "\n",
        "      \n",
        "len(childsFreeMother)"
      ],
      "execution_count": 6,
      "outputs": [
        {
          "output_type": "stream",
          "text": [
            "/usr/local/lib/python3.6/dist-packages/ipykernel_launcher.py:3: TqdmDeprecationWarning: This function will be removed in tqdm==5.0.0\n",
            "Please use `tqdm.notebook.tqdm` instead of `tqdm.tqdm_notebook`\n",
            "  This is separate from the ipykernel package so we can avoid doing imports until\n"
          ],
          "name": "stderr"
        },
        {
          "output_type": "display_data",
          "data": {
            "application/vnd.jupyter.widget-view+json": {
              "model_id": "15976c701f5b42b989a6ba6def280487",
              "version_minor": 0,
              "version_major": 2
            },
            "text/plain": [
              "HBox(children=(IntProgress(value=0, max=4821), HTML(value='')))"
            ]
          },
          "metadata": {
            "tags": []
          }
        },
        {
          "output_type": "stream",
          "text": [
            "\n"
          ],
          "name": "stdout"
        },
        {
          "output_type": "execute_result",
          "data": {
            "text/plain": [
              "142"
            ]
          },
          "metadata": {
            "tags": []
          },
          "execution_count": 6
        }
      ]
    },
    {
      "cell_type": "code",
      "metadata": {
        "id": "gKQN463aqOxl",
        "colab_type": "code",
        "colab": {
          "base_uri": "https://localhost:8080/",
          "height": 35
        },
        "outputId": "36a8abc3-f38d-46ff-df3a-4e6c81a7752e"
      },
      "source": [
        "len(childsFreeFather)"
      ],
      "execution_count": 7,
      "outputs": [
        {
          "output_type": "execute_result",
          "data": {
            "text/plain": [
              "125"
            ]
          },
          "metadata": {
            "tags": []
          },
          "execution_count": 7
        }
      ]
    },
    {
      "cell_type": "code",
      "metadata": {
        "id": "P0_SJiC-h5Nh",
        "colab_type": "code",
        "colab": {
          "base_uri": "https://localhost:8080/",
          "height": 35
        },
        "outputId": "0c309c81-988c-475c-f558-dba8a8bb8e16"
      },
      "source": [
        "# Дети без мамы или папы\n",
        "allfree = set()\n",
        "allfree.update(childsFreeMother, childsFreeFather)\n",
        "len(allfree)"
      ],
      "execution_count": 8,
      "outputs": [
        {
          "output_type": "execute_result",
          "data": {
            "text/plain": [
              "267"
            ]
          },
          "metadata": {
            "tags": []
          },
          "execution_count": 8
        }
      ]
    },
    {
      "cell_type": "code",
      "metadata": {
        "id": "jcZHHOWSBskE",
        "colab_type": "code",
        "colab": {
          "base_uri": "https://localhost:8080/",
          "height": 156,
          "referenced_widgets": [
            "77a5b980864b47f2936fdaf00d805f56",
            "96cfc320c4344fa198d62708b6825305",
            "779adef2eb9449bd9edfa5de9aa5b214",
            "e42ffa710ed84722af3e50e802c254ba",
            "d64e180441b44be99f9e6d3f5872e543",
            "2d0937f6408f4562909144bcc77ae1c0",
            "926b6ccd6e924df0a382666621c31e11",
            "2f20db35f87e4f4bbae289674853bb70"
          ]
        },
        "outputId": "7bb98144-bcf2-48ca-8464-d11fde90d671"
      },
      "source": [
        "# поиск детей, которые потеряли родителя до 19 и есть сведения об этом родителе\n",
        "# таких не нашлось\n",
        "newChildM = set()\n",
        "for child in tqdm_notebook(childsFreeMother):\n",
        "#for child in childsFreeFather:\n",
        "  for ch in range(1,20):\n",
        "    Baby = \"IDIND\" + str(ch)\n",
        "    \n",
        "    for index, row in data[data[Baby] == child].iterrows():\n",
        "      number_members = int(row['NFM'])\n",
        "\n",
        "      for i in range(2, number_members + 1):\n",
        "        for j in range(i-1, 0, -1):\n",
        "            #Ячейка  B@.9.@, при разных варианциях имеет разные форматы\n",
        "            if (i >= 11 and i <= 16) and (j >= 10):\n",
        "                cell = \"B\" + str(i) + \"9_\" + str(j)\n",
        "            elif (i >= 17 and i <= 24) and (j >= 10):\n",
        "                cell = \"B\" + str(i) + \"_9\" + str(j)\n",
        "            else:\n",
        "                cell = \"B\" + str(i) + \"_9_\" + str(j)\n",
        "            \n",
        "            #Если член семьи является отцом/матерью\n",
        "            if (j == ch) & (row[cell] == 3):\n",
        "                gender = \"B\" + str(i) + \"_4\"\n",
        "                status = \"B\" + str(i) + \"_2_2\"\n",
        "                if (row[gender] == 1) & ((row[status] == 2) ^ (row[status] == 3)):\n",
        "                  vsp = []\n",
        "                  vsp.append(child)\n",
        "                  bd = \"B\" + str(j) + \"5\"\n",
        "                  lwf = row[\"YEAR\"] - row[bd]\n",
        "                  vsp.append(lwf)\n",
        "                  vsp = tuple(vsp)\n",
        "                  newChildM.add(vsp)\n",
        "\n",
        "             #Если член семьи является сыном/дочерью       \n",
        "            elif (i == ch) & (row[cell] == 5):\n",
        "              gender = \"B\" + str(j) + \"_4\"\n",
        "              status = \"B\" + str(j) + \"_2_2\"\n",
        "              if (row[gender] == 1) & ((row[status] == 2) ^ (row[status] == 3)):\n",
        "                vsp = []\n",
        "                vsp.append(child)\n",
        "                bd = \"B\" + str(i) + \"5\"\n",
        "                lwf = row[\"YEAR\"] - row[bd]\n",
        "                vsp.append(lwf)\n",
        "                vsp = tuple(vsp)\n",
        "                newChildM.add(vsp)\n",
        "len(newChildM)"
      ],
      "execution_count": 9,
      "outputs": [
        {
          "output_type": "stream",
          "text": [
            "/usr/local/lib/python3.6/dist-packages/ipykernel_launcher.py:2: TqdmDeprecationWarning: This function will be removed in tqdm==5.0.0\n",
            "Please use `tqdm.notebook.tqdm` instead of `tqdm.tqdm_notebook`\n",
            "  \n"
          ],
          "name": "stderr"
        },
        {
          "output_type": "display_data",
          "data": {
            "application/vnd.jupyter.widget-view+json": {
              "model_id": "77a5b980864b47f2936fdaf00d805f56",
              "version_minor": 0,
              "version_major": 2
            },
            "text/plain": [
              "HBox(children=(IntProgress(value=0, max=142), HTML(value='')))"
            ]
          },
          "metadata": {
            "tags": []
          }
        },
        {
          "output_type": "stream",
          "text": [
            "\n"
          ],
          "name": "stdout"
        },
        {
          "output_type": "execute_result",
          "data": {
            "text/plain": [
              "0"
            ]
          },
          "metadata": {
            "tags": []
          },
          "execution_count": 9
        }
      ]
    },
    {
      "cell_type": "code",
      "metadata": {
        "id": "edTVWlH1s8g5",
        "colab_type": "code",
        "colab": {
          "base_uri": "https://localhost:8080/",
          "height": 156,
          "referenced_widgets": [
            "9524c2b5ed43421db6e215e88208c5cf",
            "76337c557999488c8609c8641f77a5a9",
            "6205a7a0fa9940b99e284ea5bb6c1394",
            "a24cd9bd8a26463b91c1fceaa5ee9caf",
            "7eb8c412e97e447e82827ff23659c71f",
            "efe59e31de9242039c7dcc7fd513b6c0",
            "1fde07f8b6b04d19aefbe4499f0d540b",
            "736cf6684d584db5b4b15416715dbf26"
          ]
        },
        "outputId": "68a0becf-a0f3-436f-fd69-19686c5e321f"
      },
      "source": [
        "# Тогда найдем тех детей без родичей, у которых были отчим/мачеха \n",
        "newChildF = set() # это будет пара ребенок отчим\n",
        "for child in tqdm_notebook(allfree):\n",
        "#for child in childsFreeFather:\n",
        "  for ch in range(1,20):\n",
        "    Baby = \"IDIND\" + str(ch)\n",
        "    \n",
        "    for index, row in data[data[Baby] == child].iterrows():\n",
        "      number_members = int(row['NFM'])\n",
        "\n",
        "      for i in range(2, number_members + 1):\n",
        "        for j in range(i-1, 0, -1):\n",
        "            #Ячейка  B@.9.@, при разных варианциях имеет разные форматы\n",
        "            if (i >= 11 and i <= 16) and (j >= 10):\n",
        "                cell = \"B\" + str(i) + \"9_\" + str(j)\n",
        "            elif (i >= 17 and i <= 24) and (j >= 10):\n",
        "                cell = \"B\" + str(i) + \"_9\" + str(j)\n",
        "            else:\n",
        "                cell = \"B\" + str(i) + \"_9_\" + str(j)\n",
        "            \n",
        "            bd = \"B\" + str(j) + \"_5\"\n",
        "            #Если член семьи является отцом/матерью\n",
        "            if (j == ch) & (row[cell] == 3) & (row['YEAR'] - row[bd] < 19):\n",
        "              vsp = []\n",
        "              vsp.append(child)\n",
        "              IDIND = \"IDIND\" + str(i)\n",
        "              vsp.append(row[IDIND])\n",
        "              vsp = tuple(vsp)\n",
        "              newChildF.add(vsp)\n",
        "            #Если член семьи является сыном/дочерью \n",
        "            bd = \"B\" + str(i) + \"_5\" \n",
        "            if (i == ch) & (row[cell] == 5) & (row['YEAR'] - row[bd] < 19):\n",
        "              vsp = []\n",
        "              vsp.append(child)\n",
        "              IDIND = \"IDIND\" + str(j)\n",
        "              vsp.append(row[IDIND])\n",
        "              vsp = tuple(vsp)\n",
        "              newChildF.add(vsp)\n",
        "\n",
        "\n",
        "len(newChildF)       \n"
      ],
      "execution_count": 10,
      "outputs": [
        {
          "output_type": "stream",
          "text": [
            "/usr/local/lib/python3.6/dist-packages/ipykernel_launcher.py:2: TqdmDeprecationWarning: This function will be removed in tqdm==5.0.0\n",
            "Please use `tqdm.notebook.tqdm` instead of `tqdm.tqdm_notebook`\n",
            "  \n"
          ],
          "name": "stderr"
        },
        {
          "output_type": "display_data",
          "data": {
            "application/vnd.jupyter.widget-view+json": {
              "model_id": "9524c2b5ed43421db6e215e88208c5cf",
              "version_minor": 0,
              "version_major": 2
            },
            "text/plain": [
              "HBox(children=(IntProgress(value=0, max=267), HTML(value='')))"
            ]
          },
          "metadata": {
            "tags": []
          }
        },
        {
          "output_type": "stream",
          "text": [
            "\n"
          ],
          "name": "stdout"
        },
        {
          "output_type": "execute_result",
          "data": {
            "text/plain": [
              "23"
            ]
          },
          "metadata": {
            "tags": []
          },
          "execution_count": 10
        }
      ]
    },
    {
      "cell_type": "code",
      "metadata": {
        "id": "6lZjFr2vIlIN",
        "colab_type": "code",
        "colab": {
          "base_uri": "https://localhost:8080/",
          "height": 55
        },
        "outputId": "26120632-c557-46f8-aa77-cbbb0b6c4023"
      },
      "source": [
        "print(newChildF)"
      ],
      "execution_count": 11,
      "outputs": [
        {
          "output_type": "stream",
          "text": [
            "{(8678, 8676.0), (8677, 8676.0), (53031, 33211.0), (21718, 3176.0), (39524, 39522.0), (24865, 23840.0), (8648, 8645.0), (40464, 40465.0), (31241, 24909.0), (36554, 36552.0), (22202, 23540.0), (1576, 11690.0), (16722, 16720.0), (37495, 37493.0), (4385, 12427.0), (19229, 19226.0), (36086, 36085.0), (17989, 17988.0), (22315, 22313.0), (38720, 42916.0), (14733, 2537.0), (27012, 27014.0), (16204, 11005.0)}\n"
          ],
          "name": "stdout"
        }
      ]
    },
    {
      "cell_type": "code",
      "metadata": {
        "id": "ICZ-AslfZoT-",
        "colab_type": "code",
        "colab": {
          "base_uri": "https://localhost:8080/",
          "height": 156,
          "referenced_widgets": [
            "46bf3c63d8c34af09a4a09b8c036d3aa",
            "6ae9198ec48141898d2f7b53c2b43593",
            "c7afbb715ca5421a8dddd1681357a388",
            "ac1801273d814a638f7cb7748c16e5bc",
            "75a2cfa94c4d4ba589dbf967b8878af0",
            "1487f1c0d0484ede9735a78624b5dc14",
            "4378f6d1515d4083805967fbc5fa2bed",
            "95ed7d979218400cad4ba89450b432b7"
          ]
        },
        "outputId": "d51a1dac-2b2d-4e20-ffa0-2343cd2a0756"
      },
      "source": [
        "# для этих пар ребеноk отчиm/м найдем найдем кол-во лет существования этой пары\n",
        "ycho = [] # пары ребенок + год рождения + отчим/м + начальный год + конечный год\n",
        "ych = [] # пара ребенок + год его появления в данных\n",
        "\n",
        "for child in tqdm_notebook(newChildF):\n",
        "  ycho.append([child[0], 0, child[1], 1000000, 0, 0])\n",
        "  ych.append([child[0], 1000000])\n",
        "  for ch in range(1,20):\n",
        "    IDINDB = \"IDIND\" + str(ch)\n",
        "    bd = \"B\" + str(ch) + \"_5\"\n",
        "\n",
        "    for index, row in data[(data[IDINDB] == child[0])].iterrows():\n",
        "        for i in range(len(ych)):\n",
        "          if (ych[i][0] == child[0]) & (ych[i][1] > row['YEAR']):\n",
        "            ych[i][1] = row['YEAR']\n",
        "\n",
        "    for o in range(1,20):\n",
        "      IDINDO = 'IDIND' + str(o)\n",
        "      gender = \"B\" + str(o) + \"_4\"\n",
        "    \n",
        "      for index, row in data[(data[IDINDB] == child[0]) & (data[IDINDO] == child[1])].iterrows():\n",
        "        for i in range(len(ycho)):\n",
        "\n",
        "          if (ycho[i][0] == child[0]) & (ycho[i][2] == child[1]) & (ycho[i][5] == 0) & (not math.isnan(row[gender])):\n",
        "            ycho[i][5] = row[gender]\n",
        "          \n",
        "          if (ycho[i][0] == child[0]) & (ycho[i][1] == 0) & (not math.isnan(row[bd])):\n",
        "            ycho[i][1] = row[bd]\n",
        "\n",
        "          if (ycho[i][0] == child[0]) & (ycho[i][2] == child[1]):\n",
        "            if ycho[i][3] > row['YEAR']:\n",
        "              ycho[i][3] = row['YEAR']\n",
        "\n",
        "            if (ycho[i][4] < row['YEAR']):\n",
        "              if (ycho[i][1] != 0) & (ycho[i][1] + 18 < row['YEAR']):\n",
        "                ycho[i][4] = ycho[i][1] + 18\n",
        "              elif (ycho[i][1] != 0) & (ycho[i][1] + 18 > row['YEAR']):\n",
        "                ycho[i][4] = row['YEAR']\n",
        "              else:\n",
        "                ycho[i][4] = row['YEAR']\n",
        "                    \n",
        "            \n",
        "\n",
        "        \n",
        "len(ycho)\n"
      ],
      "execution_count": 14,
      "outputs": [
        {
          "output_type": "stream",
          "text": [
            "/usr/local/lib/python3.6/dist-packages/ipykernel_launcher.py:4: TqdmDeprecationWarning: This function will be removed in tqdm==5.0.0\n",
            "Please use `tqdm.notebook.tqdm` instead of `tqdm.tqdm_notebook`\n",
            "  after removing the cwd from sys.path.\n"
          ],
          "name": "stderr"
        },
        {
          "output_type": "display_data",
          "data": {
            "application/vnd.jupyter.widget-view+json": {
              "model_id": "46bf3c63d8c34af09a4a09b8c036d3aa",
              "version_minor": 0,
              "version_major": 2
            },
            "text/plain": [
              "HBox(children=(IntProgress(value=0, max=23), HTML(value='')))"
            ]
          },
          "metadata": {
            "tags": []
          }
        },
        {
          "output_type": "stream",
          "text": [
            "\n"
          ],
          "name": "stdout"
        },
        {
          "output_type": "execute_result",
          "data": {
            "text/plain": [
              "23"
            ]
          },
          "metadata": {
            "tags": []
          },
          "execution_count": 14
        }
      ]
    },
    {
      "cell_type": "code",
      "metadata": {
        "id": "8tgd2lhEI_NA",
        "colab_type": "code",
        "colab": {
          "base_uri": "https://localhost:8080/",
          "height": 416
        },
        "outputId": "587c0f3d-782b-489f-cd0f-288b2b0aa17a"
      },
      "source": [
        "# для этих пар ребеноk отчиm/м найдем найдем кол-во лет существования этой пары\n",
        "for i in range(len(ycho)):\n",
        "  ycho[i].append(ycho[i][4] - ycho[i][3] + 1)\n",
        "\n",
        "ycho\n"
      ],
      "execution_count": 15,
      "outputs": [
        {
          "output_type": "execute_result",
          "data": {
            "text/plain": [
              "[[8678, 1989.0, 8676.0, 1994.0, 2007.0, 2.0, 14.0],\n",
              " [8677, 1986.0, 8676.0, 1994.0, 2004.0, 2.0, 11.0],\n",
              " [53031, 1998.0, 33211.0, 2016.0, 2016.0, 2.0, 1.0],\n",
              " [21718, 1985.0, 3176.0, 2003.0, 2003.0, 2.0, 1.0],\n",
              " [39524, 1993.0, 39522.0, 2010.0, 2011.0, 2.0, 2.0],\n",
              " [24865, 1991.0, 23840.0, 2005.0, 2009.0, 2.0, 5.0],\n",
              " [8648, 1976.0, 8645.0, 1994.0, 1994.0, 2.0, 1.0],\n",
              " [40464, 1992.0, 40465.0, 2010.0, 2010.0, 1.0, 1.0],\n",
              " [31241, 1991.0, 24909.0, 2008.0, 2009.0, 2.0, 2.0],\n",
              " [36554, 1997.0, 36552.0, 2010.0, 2015.0, 2.0, 6.0],\n",
              " [22202, 1995.0, 23540.0, 2004.0, 2013.0, 2.0, 10.0],\n",
              " [1576, 1980.0, 11690.0, 1996.0, 1998.0, 2.0, 3.0],\n",
              " [16722, 1988.0, 16720.0, 2000.0, 2006.0, 2.0, 7.0],\n",
              " [37495, 1992.0, 37493.0, 2010.0, 2010.0, 2.0, 1.0],\n",
              " [4385, 1986.0, 12427.0, 1996.0, 2004.0, 2.0, 9.0],\n",
              " [19229, 1984.0, 19226.0, 2001.0, 2002.0, 2.0, 2.0],\n",
              " [36086, 1994.0, 36085.0, 2010.0, 2012.0, 2.0, 3.0],\n",
              " [17989, 1987.0, 17988.0, 2001.0, 2005.0, 2.0, 5.0],\n",
              " [22315, 1990.0, 22313.0, 2003.0, 2008.0, 2.0, 6.0],\n",
              " [38720, 1997.0, 42916.0, 2010.0, 2015.0, 1.0, 6.0],\n",
              " [14733, 1986.0, 2537.0, 1998.0, 2004.0, 2.0, 7.0],\n",
              " [27012, 1988.0, 27014.0, 2006.0, 2006.0, 1.0, 1.0],\n",
              " [16204, 1982.0, 11005.0, 1998.0, 2000.0, 2.0, 3.0]]"
            ]
          },
          "metadata": {
            "tags": []
          },
          "execution_count": 15
        }
      ]
    },
    {
      "cell_type": "code",
      "metadata": {
        "id": "tCrV_HhZL2Z4",
        "colab_type": "code",
        "colab": {
          "base_uri": "https://localhost:8080/",
          "height": 416
        },
        "outputId": "277d4636-8563-448e-8984-64be7d8bc844"
      },
      "source": [
        "ych"
      ],
      "execution_count": 16,
      "outputs": [
        {
          "output_type": "execute_result",
          "data": {
            "text/plain": [
              "[[8678, 1994.0],\n",
              " [8677, 1994.0],\n",
              " [53031, 2016.0],\n",
              " [21718, 2003.0],\n",
              " [39524, 2010.0],\n",
              " [24865, 2005.0],\n",
              " [8648, 1994.0],\n",
              " [40464, 2010.0],\n",
              " [31241, 2008.0],\n",
              " [36554, 2010.0],\n",
              " [22202, 2003.0],\n",
              " [1576, 1994.0],\n",
              " [16722, 2000.0],\n",
              " [37495, 2010.0],\n",
              " [4385, 1994.0],\n",
              " [19229, 2001.0],\n",
              " [36086, 2010.0],\n",
              " [17989, 2001.0],\n",
              " [22315, 2003.0],\n",
              " [38720, 2010.0],\n",
              " [14733, 1998.0],\n",
              " [27012, 2006.0],\n",
              " [16204, 1998.0]]"
            ]
          },
          "metadata": {
            "tags": []
          },
          "execution_count": 16
        }
      ]
    },
    {
      "cell_type": "code",
      "metadata": {
        "id": "AQmrFno8KSF8",
        "colab_type": "code",
        "colab": {
          "base_uri": "https://localhost:8080/",
          "height": 87
        },
        "outputId": "2b035528-87a3-4239-9969-53ace3ce6e54"
      },
      "source": [
        "# просто проверка: у 20 из 23 отчимы с начала исчесления, так что точноее время их с ребеноком не известно\n",
        "a = []\n",
        "for i in range(len(ych)):\n",
        "  for j in range(len(ycho)):\n",
        "    if (ycho[i][3] != ych[i][1]) & (ycho[i][0] == ych[j][0]):\n",
        "      a.append(ych[i][0])\n",
        "      print(ych[i][0], ycho[i][2], ycho[i][5])\n",
        "len(a)"
      ],
      "execution_count": 17,
      "outputs": [
        {
          "output_type": "stream",
          "text": [
            "22202 23540.0 2.0\n",
            "1576 11690.0 2.0\n",
            "4385 12427.0 2.0\n"
          ],
          "name": "stdout"
        },
        {
          "output_type": "execute_result",
          "data": {
            "text/plain": [
              "3"
            ]
          },
          "metadata": {
            "tags": []
          },
          "execution_count": 17
        }
      ]
    },
    {
      "cell_type": "code",
      "metadata": {
        "id": "TDJN1Vr5E85-",
        "colab_type": "code",
        "colab": {
          "base_uri": "https://localhost:8080/",
          "height": 243
        },
        "outputId": "f7df31a6-250a-4e62-aacc-53d377de5228"
      },
      "source": [
        "data.loc[data[\"IDIND5\"] == 12427, 'YEAR']\n"
      ],
      "execution_count": 243,
      "outputs": [
        {
          "output_type": "execute_result",
          "data": {
            "text/plain": [
              "9315     1996\n",
              "13113    1998\n",
              "17056    2000\n",
              "21085    2001\n",
              "25666    2002\n",
              "30363    2003\n",
              "35097    2004\n",
              "39823    2005\n",
              "44805    2006\n",
              "50308    2007\n",
              "55669    2008\n",
              "61005    2009\n",
              "Name: YEAR, dtype: int64"
            ]
          },
          "metadata": {
            "tags": []
          },
          "execution_count": 243
        }
      ]
    },
    {
      "cell_type": "code",
      "metadata": {
        "id": "fSgZU3lgc8wm",
        "colab_type": "code",
        "colab": {
          "base_uri": "https://localhost:8080/",
          "height": 35
        },
        "outputId": "607bc5c0-c19f-4b8e-8b3a-f3ce70de0eb7"
      },
      "source": [
        "vsp = set()\n",
        "for i in range(len(ycho)):\n",
        "  vsp.add(ycho[i][0])\n",
        "\n",
        "len(vsp)"
      ],
      "execution_count": 18,
      "outputs": [
        {
          "output_type": "execute_result",
          "data": {
            "text/plain": [
              "23"
            ]
          },
          "metadata": {
            "tags": []
          },
          "execution_count": 18
        }
      ]
    },
    {
      "cell_type": "code",
      "metadata": {
        "id": "qh8ZYrWgGnc6",
        "colab_type": "code",
        "colab": {}
      },
      "source": [
        "data = data.assign(ParentsFreeChilds1=np.zeros(data.shape[0]))\n",
        "data = data.assign(ParentsFreeChilds2=np.zeros(data.shape[0]))\n",
        "data = data.assign(ParentsFreeChilds3=np.zeros(data.shape[0]))\n",
        "data = data.assign(ParentsFreeChilds4=np.zeros(data.shape[0]))"
      ],
      "execution_count": 0,
      "outputs": []
    },
    {
      "cell_type": "code",
      "metadata": {
        "id": "1tIVgMwlOL2W",
        "colab_type": "code",
        "colab": {
          "base_uri": "https://localhost:8080/",
          "height": 139,
          "referenced_widgets": [
            "4c8c53ebdf914603a726be4f6170e3f2",
            "c03adc1402294c629fea67811f44aa3d",
            "ace294a570c845f0a4ac9c26743866d7",
            "4941c2a7f3e4497dada61fde7b2bf7ea",
            "9879ea9b3a674d6bb6bdc1b31cf166e3",
            "1fd17b3394d041559e1b6a2067887cc9",
            "ddf9a20e56f94bdb9f510476b78fed3d",
            "6acccfa8e3f04cfb8bb5a5dfd2d21ea6"
          ]
        },
        "outputId": "96d73b66-206c-46fb-8939-9ceca58bd7ea"
      },
      "source": [
        "# Осталось записать полученные данные в данные: -1, если без отца и отчима, > 0, если с отчимом, это кол-во лет с отчимом))\n",
        "\n",
        "for main_index in tqdm_notebook(range(len(data))):\n",
        "  for ch in range(1, 5):\n",
        "    Baby = 'BABY' + str(ch)\n",
        "    ParentsFreeChilds = 'ParentsFreeChilds' + str(ch)\n",
        "    \n",
        "    if data.loc[main_index, Baby] in allfree:\n",
        "      data.loc[main_index, ParentsFreeChilds] = -1\n",
        "\n",
        "    if data.loc[main_index, Baby] in vsp:\n",
        "      for i in range(len(ycho)):\n",
        "        if ycho[i][0] == data.loc[main_index, Baby]:\n",
        "          data.loc[main_index, ParentsFreeChilds] = ycho[i][6]\n",
        "          \n",
        "          if ycho[i][5] == 1:\n",
        "            data.loc[main_index, 'FATHER'] = -ycho[i][2]\n",
        "\n",
        "          elif ycho[i][5] == 2:\n",
        "            data.loc[main_index, 'MOTHER'] = -ycho[i][2]\n",
        "\n",
        "\n",
        "\n",
        "\n",
        "\n",
        "\n",
        "\n",
        "\n",
        "\n"
      ],
      "execution_count": 19,
      "outputs": [
        {
          "output_type": "stream",
          "text": [
            "/usr/local/lib/python3.6/dist-packages/ipykernel_launcher.py:2: TqdmDeprecationWarning: This function will be removed in tqdm==5.0.0\n",
            "Please use `tqdm.notebook.tqdm` instead of `tqdm.tqdm_notebook`\n",
            "  \n"
          ],
          "name": "stderr"
        },
        {
          "output_type": "display_data",
          "data": {
            "application/vnd.jupyter.widget-view+json": {
              "model_id": "4c8c53ebdf914603a726be4f6170e3f2",
              "version_minor": 0,
              "version_major": 2
            },
            "text/plain": [
              "HBox(children=(IntProgress(value=0, max=131515), HTML(value='')))"
            ]
          },
          "metadata": {
            "tags": []
          }
        },
        {
          "output_type": "stream",
          "text": [
            "\n"
          ],
          "name": "stdout"
        }
      ]
    },
    {
      "cell_type": "code",
      "metadata": {
        "id": "RtQhC5oaBSWF",
        "colab_type": "code",
        "colab": {
          "base_uri": "https://localhost:8080/",
          "height": 202
        },
        "outputId": "fad1046f-7932-4d48-abfd-bd6fa30dd473"
      },
      "source": [
        "UNDdata = pd.read_csv(\"Ind.csv\")\n",
        "UNDdata.head()"
      ],
      "execution_count": 29,
      "outputs": [
        {
          "output_type": "execute_result",
          "data": {
            "text/html": [
              "<div>\n",
              "<style scoped>\n",
              "    .dataframe tbody tr th:only-of-type {\n",
              "        vertical-align: middle;\n",
              "    }\n",
              "\n",
              "    .dataframe tbody tr th {\n",
              "        vertical-align: top;\n",
              "    }\n",
              "\n",
              "    .dataframe thead th {\n",
              "        text-align: right;\n",
              "    }\n",
              "</style>\n",
              "<table border=\"1\" class=\"dataframe\">\n",
              "  <thead>\n",
              "    <tr style=\"text-align: right;\">\n",
              "      <th></th>\n",
              "      <th>ID_W</th>\n",
              "      <th>ID_H</th>\n",
              "      <th>EDUC</th>\n",
              "      <th>H4</th>\n",
              "      <th>AGE</th>\n",
              "      <th>INCOME</th>\n",
              "      <th>IDIND</th>\n",
              "    </tr>\n",
              "  </thead>\n",
              "  <tbody>\n",
              "    <tr>\n",
              "      <th>0</th>\n",
              "      <td>5</td>\n",
              "      <td>1001</td>\n",
              "      <td>18.0</td>\n",
              "      <td>1</td>\n",
              "      <td>21</td>\n",
              "      <td>160000.0</td>\n",
              "      <td>-1</td>\n",
              "    </tr>\n",
              "    <tr>\n",
              "      <th>1</th>\n",
              "      <td>5</td>\n",
              "      <td>1001</td>\n",
              "      <td>16.0</td>\n",
              "      <td>2</td>\n",
              "      <td>23</td>\n",
              "      <td>600000.0</td>\n",
              "      <td>-2</td>\n",
              "    </tr>\n",
              "    <tr>\n",
              "      <th>2</th>\n",
              "      <td>5</td>\n",
              "      <td>1002</td>\n",
              "      <td>16.0</td>\n",
              "      <td>1</td>\n",
              "      <td>39</td>\n",
              "      <td>1200000.0</td>\n",
              "      <td>-3</td>\n",
              "    </tr>\n",
              "    <tr>\n",
              "      <th>3</th>\n",
              "      <td>5</td>\n",
              "      <td>1002</td>\n",
              "      <td>14.0</td>\n",
              "      <td>2</td>\n",
              "      <td>45</td>\n",
              "      <td>39000.0</td>\n",
              "      <td>-4</td>\n",
              "    </tr>\n",
              "    <tr>\n",
              "      <th>4</th>\n",
              "      <td>5</td>\n",
              "      <td>1002</td>\n",
              "      <td>NaN</td>\n",
              "      <td>3</td>\n",
              "      <td>10</td>\n",
              "      <td>NaN</td>\n",
              "      <td>-5</td>\n",
              "    </tr>\n",
              "  </tbody>\n",
              "</table>\n",
              "</div>"
            ],
            "text/plain": [
              "   ID_W  ID_H  EDUC  H4  AGE     INCOME  IDIND\n",
              "0     5  1001  18.0   1   21   160000.0     -1\n",
              "1     5  1001  16.0   2   23   600000.0     -2\n",
              "2     5  1002  16.0   1   39  1200000.0     -3\n",
              "3     5  1002  14.0   2   45    39000.0     -4\n",
              "4     5  1002   NaN   3   10        NaN     -5"
            ]
          },
          "metadata": {
            "tags": []
          },
          "execution_count": 29
        }
      ]
    },
    {
      "cell_type": "code",
      "metadata": {
        "id": "nE3Lnp7TBe2n",
        "colab_type": "code",
        "colab": {
          "base_uri": "https://localhost:8080/",
          "height": 35
        },
        "outputId": "1f7b27cd-7539-4e14-d361-e203dd970689"
      },
      "source": [
        "UNDdata.shape"
      ],
      "execution_count": 31,
      "outputs": [
        {
          "output_type": "execute_result",
          "data": {
            "text/plain": [
              "(353827, 7)"
            ]
          },
          "metadata": {
            "tags": []
          },
          "execution_count": 31
        }
      ]
    },
    {
      "cell_type": "code",
      "metadata": {
        "id": "UlYaKJhLBjSy",
        "colab_type": "code",
        "colab": {
          "base_uri": "https://localhost:8080/",
          "height": 139,
          "referenced_widgets": [
            "c1fcc9cc763e404d8ea02d05f201d56b",
            "6b47a97e780e48928b9c36327b7ba0be",
            "d97bc975c84e4f1d87054f0167a8e810",
            "711877b5b06546b78e849fbf5ace9022",
            "9e3811cf717b49df8e9528b8faa5c12d",
            "9f5d87620df44367bc61adbf6a05d47f",
            "ef08f73e912243be87ddafa323ff89f1",
            "af0376df476c4b94877bf4c0432c23df"
          ]
        },
        "outputId": "f060e935-8e03-4c74-f146-2306d028434c"
      },
      "source": [
        "# добавим индивидуальные данные о отчимах/маихах\n",
        "# Осталось записать полученные данные в данные: -1, если без отца и отчима, > 0, если с отчимом, это кол-во лет с отчимом))\n",
        "\n",
        "for main_index in tqdm_notebook(range(len(data))):\n",
        "  for ch in range(1, 5):\n",
        "    Baby = 'BABY' + str(ch)\n",
        "    \n",
        "    if data.loc[main_index, Baby] in vsp:\n",
        "      for index, row in UNDdata[(UNDdata['IDIND'] == data.loc[main_index, 'MOTHER']) & (UNDdata['ID_W'] == data.loc[main_index, 'ID_W']) & (UNDdata['ID_H'] == data.loc[main_index, 'ID_H'])].iterrows():\n",
        "        data.loc[main_index, 'EDUC_M'] = row['EDUC']\n",
        "        data.loc[main_index, 'H4_M'] = row['H4']\n",
        "        data.loc[main_index, 'AGE_M'] = row['AGE']\n",
        "        data.loc[main_index, 'INCOME_M'] = row['INCOME']\n",
        "\n",
        "      for index, row in UNDdata[(UNDdata['IDIND'] == data.loc[main_index, 'FATHER']) & (UNDdata['ID_W'] == data.loc[main_index, 'ID_W']) & (UNDdata['ID_H'] == data.loc[main_index, 'ID_H'])].iterrows():\n",
        "        data.loc[main_index, 'EDUC_F'] = row['EDUC']\n",
        "        data.loc[main_index, 'H4_F'] = row['H4']\n",
        "        data.loc[main_index, 'AGE_F'] = row['AGE']\n",
        "        data.loc[main_index, 'INCOME_F'] = row['INCOME']\n",
        "\n",
        "\n",
        "\n",
        "\n",
        "\n"
      ],
      "execution_count": 32,
      "outputs": [
        {
          "output_type": "stream",
          "text": [
            "/usr/local/lib/python3.6/dist-packages/ipykernel_launcher.py:2: TqdmDeprecationWarning: This function will be removed in tqdm==5.0.0\n",
            "Please use `tqdm.notebook.tqdm` instead of `tqdm.tqdm_notebook`\n",
            "  \n"
          ],
          "name": "stderr"
        },
        {
          "output_type": "display_data",
          "data": {
            "application/vnd.jupyter.widget-view+json": {
              "model_id": "c1fcc9cc763e404d8ea02d05f201d56b",
              "version_minor": 0,
              "version_major": 2
            },
            "text/plain": [
              "HBox(children=(IntProgress(value=0, max=131515), HTML(value='')))"
            ]
          },
          "metadata": {
            "tags": []
          }
        },
        {
          "output_type": "stream",
          "text": [
            "\n"
          ],
          "name": "stdout"
        }
      ]
    },
    {
      "cell_type": "code",
      "metadata": {
        "id": "X9ZpHr00Tfuu",
        "colab_type": "code",
        "colab": {
          "base_uri": "https://localhost:8080/",
          "height": 35
        },
        "outputId": "71347a06-4e85-420e-a2d2-7e4c965554ab"
      },
      "source": [
        "len(data.loc[(data[\"ParentsFreeChilds1\"] != 0) & (data[\"MOTHER\"] < 0) & (data[\"EDUC_M\"] != 0), \"EDUC_M\"])"
      ],
      "execution_count": 34,
      "outputs": [
        {
          "output_type": "execute_result",
          "data": {
            "text/plain": [
              "43"
            ]
          },
          "metadata": {
            "tags": []
          },
          "execution_count": 34
        }
      ]
    },
    {
      "cell_type": "code",
      "metadata": {
        "id": "Bg4SXNQzQ8er",
        "colab_type": "code",
        "colab": {}
      },
      "source": [
        "data.to_csv(\"TheEnd.csv\", index=False)"
      ],
      "execution_count": 0,
      "outputs": []
    },
    {
      "cell_type": "code",
      "metadata": {
        "id": "b9MiGCfR9nbA",
        "colab_type": "code",
        "colab": {}
      },
      "source": [
        ""
      ],
      "execution_count": 0,
      "outputs": []
    }
  ]
}